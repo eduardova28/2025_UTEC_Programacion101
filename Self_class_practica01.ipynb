{
  "nbformat": 4,
  "nbformat_minor": 0,
  "metadata": {
    "colab": {
      "provenance": [],
      "authorship_tag": "ABX9TyNXsKrVV24EZR1s1tQLJoIO",
      "include_colab_link": true
    },
    "kernelspec": {
      "name": "python3",
      "display_name": "Python 3"
    },
    "language_info": {
      "name": "python"
    }
  },
  "cells": [
    {
      "cell_type": "markdown",
      "metadata": {
        "id": "view-in-github",
        "colab_type": "text"
      },
      "source": [
        "<a href=\"https://colab.research.google.com/github/eduardova28/2025_UTEC_Programacion101/blob/main/Self_class_practica01.ipynb\" target=\"_parent\"><img src=\"https://colab.research.google.com/assets/colab-badge.svg\" alt=\"Open In Colab\"/></a>"
      ]
    },
    {
      "cell_type": "code",
      "execution_count": null,
      "metadata": {
        "colab": {
          "base_uri": "https://localhost:8080/"
        },
        "id": "CpThhP2jHpAO",
        "outputId": "fa758c90-a69c-4113-a379-6d98ff8ec524"
      },
      "outputs": [
        {
          "output_type": "stream",
          "name": "stdout",
          "text": [
            "arthas jr ha muerto\n",
            "el nombre de mi heroe es  arthas jr\n",
            "la fuerza es  100\n",
            "la agilidad es  75\n",
            "la energia es  25\n",
            "la vida es  0\n",
            "arthas jr ha realizado 90 de daño a mirana\n",
            "mirana ha muerto\n",
            "el nombre de mi heroe es  mirana\n",
            "la fuerza es  10\n",
            "la agilidad es  75\n",
            "la energia es  25\n",
            "la vida es  0\n"
          ]
        }
      ],
      "source": [
        "class Arthas:\n",
        "  def __init__(self,nombre,fuerza,agilidad,energia,vida):\n",
        "    self.nombre=nombre\n",
        "    self.fuerza=fuerza\n",
        "    self.agilidad=agilidad\n",
        "    self.energia=energia\n",
        "    self.vida=vida\n",
        "\n",
        "  def atributos(self):\n",
        "    print(\"el nombre de mi heroe es \",self.nombre)\n",
        "    print(\"la fuerza es \",self.fuerza)\n",
        "    print(\"la agilidad es \",self.agilidad)\n",
        "    print(\"la energia es \",self.energia)\n",
        "    print(\"la vida es \",self.vida)\n",
        "\n",
        "  def subir_nivel(self,fuerza,agilidad,energia,vida):\n",
        "    self.fuerza+=self.fuerza+fuerza\n",
        "    self.agilidad+=self.agilidad+agilidad\n",
        "    self.energia+=self.energia+energia\n",
        "    self.vida+=self.vida+vida\n",
        "\n",
        "  def esta_vivo(self):\n",
        "    return self.vida>0\n",
        "\n",
        "  def morir(self):\n",
        "    self.vida=0\n",
        "    print(self.nombre, \"ha muerto\")\n",
        "\n",
        "  def daño(self,mirana):\n",
        "    return self.fuerza-mirana.fuerza\n",
        "\n",
        "  def atacar(self,mirana):\n",
        "    daño=self.daño(mirana)\n",
        "    mirana.vida=mirana.vida-daño\n",
        "    print(self.nombre,\"ha realizado\", daño, \"de daño a\", mirana.nombre)\n",
        "    if mirana.esta_vivo():\n",
        "      print(\"la vida de \", mirana.nombre, \"es\", mirana.vida)\n",
        "    else:\n",
        "      mirana.morir()\n",
        "\n",
        "mi_heroe=Arthas(\"arthas jr\",100,75,25,100)\n",
        "mirana=Arthas(\"mirana\",10,75,25,50)\n",
        "mi_heroe.morir()\n",
        "mi_heroe.atributos()\n",
        "mi_heroe.atacar(mirana)\n",
        "mirana.atributos()\n",
        "\n",
        "\n"
      ]
    }
  ]
}