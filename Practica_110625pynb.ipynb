{
  "nbformat": 4,
  "nbformat_minor": 0,
  "metadata": {
    "colab": {
      "provenance": [],
      "authorship_tag": "ABX9TyNv0Vuq27ucFAvaSadjTCuK",
      "include_colab_link": true
    },
    "kernelspec": {
      "name": "python3",
      "display_name": "Python 3"
    },
    "language_info": {
      "name": "python"
    }
  },
  "cells": [
    {
      "cell_type": "markdown",
      "metadata": {
        "id": "view-in-github",
        "colab_type": "text"
      },
      "source": [
        "<a href=\"https://colab.research.google.com/github/eduardova28/2025_UTEC_Programacion101/blob/main/Practica_110625pynb.ipynb\" target=\"_parent\"><img src=\"https://colab.research.google.com/assets/colab-badge.svg\" alt=\"Open In Colab\"/></a>"
      ]
    },
    {
      "cell_type": "code",
      "execution_count": 5,
      "metadata": {
        "colab": {
          "base_uri": "https://localhost:8080/",
          "height": 211
        },
        "id": "CF9-XoYHcNIg",
        "outputId": "e93275be-a264-4035-88c4-81840e471f9c"
      },
      "outputs": [
        {
          "output_type": "error",
          "ename": "NameError",
          "evalue": "name 'mi_heroe' is not defined",
          "traceback": [
            "\u001b[0;31m---------------------------------------------------------------------------\u001b[0m",
            "\u001b[0;31mNameError\u001b[0m                                 Traceback (most recent call last)",
            "\u001b[0;32m<ipython-input-5-3370818970>\u001b[0m in \u001b[0;36m<cell line: 0>\u001b[0;34m()\u001b[0m\n\u001b[1;32m     15\u001b[0m \u001b[0;34m\u001b[0m\u001b[0m\n\u001b[1;32m     16\u001b[0m \u001b[0;34m\u001b[0m\u001b[0m\n\u001b[0;32m---> 17\u001b[0;31m \u001b[0mmi_heroe\u001b[0m\u001b[0;34m.\u001b[0m\u001b[0mmorir\u001b[0m\u001b[0;34m(\u001b[0m\u001b[0;34m)\u001b[0m\u001b[0;34m\u001b[0m\u001b[0;34m\u001b[0m\u001b[0m\n\u001b[0m\u001b[1;32m     18\u001b[0m \u001b[0mmi_heroe\u001b[0m\u001b[0;34m.\u001b[0m\u001b[0matributos\u001b[0m\u001b[0;34m(\u001b[0m\u001b[0;34m)\u001b[0m\u001b[0;34m\u001b[0m\u001b[0;34m\u001b[0m\u001b[0m\n\u001b[1;32m     19\u001b[0m \u001b[0mmi_heroe\u001b[0m\u001b[0;34m.\u001b[0m\u001b[0matacar\u001b[0m\u001b[0;34m(\u001b[0m\u001b[0mmirana\u001b[0m\u001b[0;34m)\u001b[0m\u001b[0;34m\u001b[0m\u001b[0;34m\u001b[0m\u001b[0m\n",
            "\u001b[0;31mNameError\u001b[0m: name 'mi_heroe' is not defined"
          ]
        }
      ],
      "source": [
        "class Guerrero:\n",
        "  def __init__(self,nombre,fuerza,agilidad,energia,vida):\n",
        "    self.nombre=nombre\n",
        "    self.fuerza=fuerza\n",
        "    self.agilidad=agilidad\n",
        "    self.energia=energia\n",
        "    self.vida=vida\n",
        "\n",
        "  def atributos(self):\n",
        "    print(\"el nombre de mi heroe es \",self.nombre)\n",
        "    print(\"la fuerza es \",self.fuerza)\n",
        "    print(\"la agilidad es \",self.agilidad)\n",
        "    print(\"la energia es \",self.energia)\n",
        "    print(\"la vida es \",self.vida)\n",
        "\n",
        "\n",
        "\n",
        "mi_heroe.atacar(mirana)\n",
        "mirana.atributos()"
      ]
    }
  ]
}