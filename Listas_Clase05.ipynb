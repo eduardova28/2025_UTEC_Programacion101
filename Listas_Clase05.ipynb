{
  "nbformat": 4,
  "nbformat_minor": 0,
  "metadata": {
    "colab": {
      "provenance": [],
      "authorship_tag": "ABX9TyPT02JwUl9GRECMEGz6TO/y",
      "include_colab_link": true
    },
    "kernelspec": {
      "name": "python3",
      "display_name": "Python 3"
    },
    "language_info": {
      "name": "python"
    }
  },
  "cells": [
    {
      "cell_type": "markdown",
      "metadata": {
        "id": "view-in-github",
        "colab_type": "text"
      },
      "source": [
        "<a href=\"https://colab.research.google.com/github/eduardova28/2025_UTEC_Programacion101/blob/main/Listas_Clase05.ipynb\" target=\"_parent\"><img src=\"https://colab.research.google.com/assets/colab-badge.svg\" alt=\"Open In Colab\"/></a>"
      ]
    },
    {
      "cell_type": "markdown",
      "source": [
        "## **LISTAS POR COMPRESION**\n"
      ],
      "metadata": {
        "id": "Bu-HHUkxtICf"
      }
    },
    {
      "cell_type": "code",
      "execution_count": 4,
      "metadata": {
        "colab": {
          "base_uri": "https://localhost:8080/"
        },
        "id": "K_zqDgfsSb5s",
        "outputId": "3827bd93-2ba4-4d54-d968-41f674fdfada"
      },
      "outputs": [
        {
          "output_type": "execute_result",
          "data": {
            "text/plain": [
              "[1, 2, 3]"
            ]
          },
          "metadata": {},
          "execution_count": 4
        }
      ],
      "source": [
        "#LISTAS POR COMPRESIOM\n",
        "[x for x in [1,2,3]]\n"
      ]
    },
    {
      "cell_type": "code",
      "source": [
        "#LISTAS POR\n",
        "[x**2 for x in range(0,12)]"
      ],
      "metadata": {
        "colab": {
          "base_uri": "https://localhost:8080/"
        },
        "id": "rMeburC4U6MA",
        "outputId": "ee5fdad3-c13f-4b38-9873-94d5bbfb9c6e"
      },
      "execution_count": 7,
      "outputs": [
        {
          "output_type": "execute_result",
          "data": {
            "text/plain": [
              "[0, 1, 4, 9, 16, 25, 36, 49, 64, 81, 100, 121]"
            ]
          },
          "metadata": {},
          "execution_count": 7
        }
      ]
    },
    {
      "cell_type": "code",
      "source": [
        "[x**2 for x in range(0,12) if x**2%2==0]"
      ],
      "metadata": {
        "colab": {
          "base_uri": "https://localhost:8080/"
        },
        "id": "1onI4n9pVE_n",
        "outputId": "d44a2a09-2140-449b-d195-ae7907f59027"
      },
      "execution_count": 10,
      "outputs": [
        {
          "output_type": "execute_result",
          "data": {
            "text/plain": [
              "[0, 4, 16, 36, 64, 100]"
            ]
          },
          "metadata": {},
          "execution_count": 10
        }
      ]
    },
    {
      "cell_type": "code",
      "source": [
        "from math import log\n",
        "[log(x) for x in range(1,200) if x%13==0]"
      ],
      "metadata": {
        "colab": {
          "base_uri": "https://localhost:8080/"
        },
        "id": "uZ-fl4KgVdIA",
        "outputId": "5c5dd535-eb99-4a93-acf1-ee4350b02a40"
      },
      "execution_count": 11,
      "outputs": [
        {
          "output_type": "execute_result",
          "data": {
            "text/plain": [
              "[2.5649493574615367,\n",
              " 3.258096538021482,\n",
              " 3.6635616461296463,\n",
              " 3.9512437185814275,\n",
              " 4.174387269895637,\n",
              " 4.356708826689592,\n",
              " 4.51085950651685,\n",
              " 4.6443908991413725,\n",
              " 4.762173934797756,\n",
              " 4.867534450455582,\n",
              " 4.962844630259907,\n",
              " 5.049856007249537,\n",
              " 5.1298987149230735,\n",
              " 5.204006687076795,\n",
              " 5.272999558563747]"
            ]
          },
          "metadata": {},
          "execution_count": 11
        }
      ]
    },
    {
      "cell_type": "code",
      "source": [
        "%%time\n",
        "my_list=[]\n",
        "for i in range(0,100_000):\n",
        "  my_list.append(i**2)"
      ],
      "metadata": {
        "colab": {
          "base_uri": "https://localhost:8080/"
        },
        "id": "BDizSJnXV5cn",
        "outputId": "75dc7a87-c0c2-4f63-bf84-b454147cfdc3"
      },
      "execution_count": 13,
      "outputs": [
        {
          "output_type": "stream",
          "name": "stdout",
          "text": [
            "CPU times: user 22.5 ms, sys: 1.85 ms, total: 24.4 ms\n",
            "Wall time: 26 ms\n"
          ]
        }
      ]
    },
    {
      "cell_type": "code",
      "source": [
        "%%time\n",
        "my_list=[i**2 for i in range(0,100_000)]\n"
      ],
      "metadata": {
        "colab": {
          "base_uri": "https://localhost:8080/"
        },
        "id": "7Ip6PPYXWZTa",
        "outputId": "dcb360da-48ad-44c8-efd8-25241c869de9"
      },
      "execution_count": 14,
      "outputs": [
        {
          "output_type": "stream",
          "name": "stdout",
          "text": [
            "CPU times: user 9.53 ms, sys: 2.96 ms, total: 12.5 ms\n",
            "Wall time: 12.5 ms\n"
          ]
        }
      ]
    },
    {
      "cell_type": "code",
      "source": [
        "[x**2 for x in range(0,10)]"
      ],
      "metadata": {
        "colab": {
          "base_uri": "https://localhost:8080/"
        },
        "id": "0zOMjldmYZwZ",
        "outputId": "6dd4fe7b-be33-4c9f-95b9-cbcdf6c7a6c1"
      },
      "execution_count": 17,
      "outputs": [
        {
          "output_type": "execute_result",
          "data": {
            "text/plain": [
              "[0, 1, 4, 9, 16, 25, 36, 49, 64, 81]"
            ]
          },
          "metadata": {},
          "execution_count": 17
        }
      ]
    },
    {
      "cell_type": "code",
      "source": [
        "nombres = [\"juan\",\"pedro\",\"ana\",\"maria\"]\n",
        "[nombre for nombre in nombres if nombre.startswith(\"p\")]"
      ],
      "metadata": {
        "colab": {
          "base_uri": "https://localhost:8080/"
        },
        "id": "gKy10D4KY2gi",
        "outputId": "eb843a1d-692d-4ae0-8e8f-38ec8741cc6b"
      },
      "execution_count": 28,
      "outputs": [
        {
          "output_type": "execute_result",
          "data": {
            "text/plain": [
              "['pedro']"
            ]
          },
          "metadata": {},
          "execution_count": 28
        }
      ]
    },
    {
      "cell_type": "code",
      "source": [
        "lista_impares=[x for x in range(1,51) if x%2 !=0]\n",
        "print(lista_impares)"
      ],
      "metadata": {
        "colab": {
          "base_uri": "https://localhost:8080/"
        },
        "id": "VWd7rHVebjjT",
        "outputId": "b2b9c718-9c84-4011-9a73-dc4bdef3cdae"
      },
      "execution_count": 30,
      "outputs": [
        {
          "output_type": "stream",
          "name": "stdout",
          "text": [
            "[1, 3, 5, 7, 9, 11, 13, 15, 17, 19, 21, 23, 25, 27, 29, 31, 33, 35, 37, 39, 41, 43, 45, 47, 49]\n"
          ]
        }
      ]
    },
    {
      "cell_type": "code",
      "source": [
        "#GENERAR UNA LISTA DE 10 CODIGOS ALEATORIOS DE 4 DIGITOS CON VALORES ALFANUMERICOS\n",
        "import random\n",
        "import string\n",
        "\n",
        "string.ascii_letters+string.digits\n"
      ],
      "metadata": {
        "colab": {
          "base_uri": "https://localhost:8080/",
          "height": 35
        },
        "id": "6_jCAw_tebyK",
        "outputId": "d73ae7a6-1287-4f02-ba41-eeb8248e1f5e"
      },
      "execution_count": 43,
      "outputs": [
        {
          "output_type": "execute_result",
          "data": {
            "text/plain": [
              "'abcdefghijklmnopqrstuvwxyzABCDEFGHIJKLMNOPQRSTUVWXYZ0123456789'"
            ],
            "application/vnd.google.colaboratory.intrinsic+json": {
              "type": "string"
            }
          },
          "metadata": {},
          "execution_count": 43
        }
      ]
    },
    {
      "cell_type": "code",
      "source": [
        "\"\".join(random.choices(string.ascii_letters+string.digits,k=4))"
      ],
      "metadata": {
        "colab": {
          "base_uri": "https://localhost:8080/",
          "height": 35
        },
        "id": "DikG_HsUesOJ",
        "outputId": "a1f9514d-bd51-4167-d521-c909e02c2b1e"
      },
      "execution_count": 47,
      "outputs": [
        {
          "output_type": "execute_result",
          "data": {
            "text/plain": [
              "'uFhz'"
            ],
            "application/vnd.google.colaboratory.intrinsic+json": {
              "type": "string"
            }
          },
          "metadata": {},
          "execution_count": 47
        }
      ]
    },
    {
      "cell_type": "code",
      "source": [
        "n=int(input(\"cuantas contraseñas desea manejar\"))\n",
        "[\"\".join(random.choices(string.ascii_letters+string.digits,k=4))for x in range(n)]"
      ],
      "metadata": {
        "colab": {
          "base_uri": "https://localhost:8080/"
        },
        "id": "UXCH74YPfWbS",
        "outputId": "7571bb51-5ffe-437a-dd29-7dffde095d00"
      },
      "execution_count": 51,
      "outputs": [
        {
          "name": "stdout",
          "output_type": "stream",
          "text": [
            "cuantas contraseñas desea manejar4\n"
          ]
        },
        {
          "output_type": "execute_result",
          "data": {
            "text/plain": [
              "['t8T7', 'gmKE', 'x2d0', 'btTR']"
            ]
          },
          "metadata": {},
          "execution_count": 51
        }
      ]
    },
    {
      "cell_type": "code",
      "source": [
        "# TRABAJANDO CON SLICING\n",
        "\n",
        "letras=[\"a\",\"b\",\"c\",\"d\",\"e\",\"f\",\"g\",\"h\"]\n",
        "letras[0:5]\n"
      ],
      "metadata": {
        "colab": {
          "base_uri": "https://localhost:8080/"
        },
        "id": "TIIyfpW4iNSE",
        "outputId": "0ec9e53b-8bb8-42f5-a6d7-d4876c51072d"
      },
      "execution_count": 55,
      "outputs": [
        {
          "output_type": "execute_result",
          "data": {
            "text/plain": [
              "['a', 'b', 'c', 'd', 'e']"
            ]
          },
          "metadata": {},
          "execution_count": 55
        }
      ]
    },
    {
      "cell_type": "code",
      "source": [
        "# SLICING ES [:] todos los elementos , es COMO UN COPY puedes usarlo para que no se COPIEE Y SE MODIFIQUE lista 1 se modifica, pero lista 2 NOOOO, chapa la data original\n",
        "letras=[\"a\",\"b\",\"c\",\"d\",\"e\",\"f\",\"g\",\"h\"]\n",
        "letras[:]"
      ],
      "metadata": {
        "id": "0-vHTOofin5e"
      },
      "execution_count": 58,
      "outputs": []
    },
    {
      "cell_type": "code",
      "source": [
        "letras.remove(\"utec\")\n",
        "letras"
      ],
      "metadata": {
        "colab": {
          "base_uri": "https://localhost:8080/"
        },
        "id": "HkpxGwzWj7yE",
        "outputId": "25d242b2-f2c8-47fd-fcc1-7caf72af2539"
      },
      "execution_count": 74,
      "outputs": [
        {
          "output_type": "execute_result",
          "data": {
            "text/plain": [
              "['a', 'b', 'c', 'd', 'e', 'f', 'g', 'h']"
            ]
          },
          "metadata": {},
          "execution_count": 74
        }
      ]
    },
    {
      "cell_type": "code",
      "source": [
        "lista1=letras\n",
        "lista2=letras[:]"
      ],
      "metadata": {
        "id": "anMYSL0dkZpr"
      },
      "execution_count": 76,
      "outputs": []
    },
    {
      "cell_type": "code",
      "source": [
        "lista1.append(\"utec\")"
      ],
      "metadata": {
        "id": "8M854A5wkh0E"
      },
      "execution_count": 78,
      "outputs": []
    },
    {
      "cell_type": "code",
      "source": [
        "letras"
      ],
      "metadata": {
        "colab": {
          "base_uri": "https://localhost:8080/"
        },
        "id": "b4-_mQYXk1yE",
        "outputId": "0098ae50-d1d8-4a18-dd61-9b3aee4a7ab0"
      },
      "execution_count": 79,
      "outputs": [
        {
          "output_type": "execute_result",
          "data": {
            "text/plain": [
              "['a', 'b', 'c', 'd', 'e', 'f', 'g', 'h', 'utec']"
            ]
          },
          "metadata": {},
          "execution_count": 79
        }
      ]
    },
    {
      "cell_type": "code",
      "source": [
        "lista1"
      ],
      "metadata": {
        "colab": {
          "base_uri": "https://localhost:8080/"
        },
        "id": "vPAIWGJBk3dN",
        "outputId": "4833e896-5d64-4c57-8b2e-973a76d25d7d"
      },
      "execution_count": 82,
      "outputs": [
        {
          "output_type": "execute_result",
          "data": {
            "text/plain": [
              "['a', 'b', 'c', 'd', 'e', 'f', 'g', 'h', 'utec']"
            ]
          },
          "metadata": {},
          "execution_count": 82
        }
      ]
    },
    {
      "cell_type": "code",
      "source": [
        "lista2"
      ],
      "metadata": {
        "colab": {
          "base_uri": "https://localhost:8080/"
        },
        "id": "ZOeEZK3Wk_Ku",
        "outputId": "6b115f94-2118-4e73-b0d1-240cdb56ef56"
      },
      "execution_count": 83,
      "outputs": [
        {
          "output_type": "execute_result",
          "data": {
            "text/plain": [
              "['a', 'b', 'c', 'd', 'e', 'f', 'g', 'h']"
            ]
          },
          "metadata": {},
          "execution_count": 83
        }
      ]
    },
    {
      "cell_type": "code",
      "source": [
        "#TUPLAS: LISTA QUE NO SE PUEDEN MODIFICARRRRRRRRRRRRRR! SUPER IMPORTANTE\n",
        "\n",
        "my_tuple=(1,2,3,4,5,6,7,8,9,10)\n",
        "my_tuple"
      ],
      "metadata": {
        "colab": {
          "base_uri": "https://localhost:8080/"
        },
        "id": "RjXLmA7tqJ-G",
        "outputId": "8a2568e0-41a6-4f77-9b80-714d4763d7b7"
      },
      "execution_count": 88,
      "outputs": [
        {
          "output_type": "execute_result",
          "data": {
            "text/plain": [
              "(1, 2, 3, 4, 5, 6, 7, 8, 9, 10)"
            ]
          },
          "metadata": {},
          "execution_count": 88
        }
      ]
    },
    {
      "cell_type": "code",
      "source": [
        "type(my_tuple)"
      ],
      "metadata": {
        "colab": {
          "base_uri": "https://localhost:8080/"
        },
        "id": "-N_ucDZmr2C-",
        "outputId": "742d00bf-8d7a-41e6-867a-8d9058c79725"
      },
      "execution_count": 91,
      "outputs": [
        {
          "output_type": "execute_result",
          "data": {
            "text/plain": [
              "tuple"
            ]
          },
          "metadata": {},
          "execution_count": 91
        }
      ]
    },
    {
      "cell_type": "code",
      "source": [
        "my_tuple[0:2]"
      ],
      "metadata": {
        "colab": {
          "base_uri": "https://localhost:8080/"
        },
        "id": "pxGXL40krQtP",
        "outputId": "0f9bd243-7d70-4905-ddcc-d834a4811fb7"
      },
      "execution_count": 89,
      "outputs": [
        {
          "output_type": "execute_result",
          "data": {
            "text/plain": [
              "(1, 2)"
            ]
          },
          "metadata": {},
          "execution_count": 89
        }
      ]
    },
    {
      "cell_type": "code",
      "source": [
        "sum(my_tuple)"
      ],
      "metadata": {
        "colab": {
          "base_uri": "https://localhost:8080/"
        },
        "id": "DRK96jBSrlnW",
        "outputId": "7b016ff3-abd4-4649-b549-b2ddf8c0234b"
      },
      "execution_count": 90,
      "outputs": [
        {
          "output_type": "execute_result",
          "data": {
            "text/plain": [
              "55"
            ]
          },
          "metadata": {},
          "execution_count": 90
        }
      ]
    },
    {
      "cell_type": "code",
      "source": [
        "len(my_tuple)"
      ],
      "metadata": {
        "colab": {
          "base_uri": "https://localhost:8080/"
        },
        "id": "8XYvqgwlr_3-",
        "outputId": "7aca1ff1-f7c5-4b49-a730-80b593f09f9b"
      },
      "execution_count": 92,
      "outputs": [
        {
          "output_type": "execute_result",
          "data": {
            "text/plain": [
              "10"
            ]
          },
          "metadata": {},
          "execution_count": 92
        }
      ]
    },
    {
      "cell_type": "markdown",
      "source": [
        "# **DICCIONARIOS**"
      ],
      "metadata": {
        "id": "YvMF2d0xtCsG"
      }
    },
    {
      "cell_type": "code",
      "source": [
        "#DICCIONARIOOOOOOOOOOOOOOOOOS\n",
        "persona={\"nombre\":\"ana\",\n",
        "         \"edad\":30,\n",
        "         \"ciudad\":\"Lima\"}\n",
        "print(persona)"
      ],
      "metadata": {
        "colab": {
          "base_uri": "https://localhost:8080/"
        },
        "id": "_R154oAusDKl",
        "outputId": "82fa8014-94dd-4543-efda-5581c8197278"
      },
      "execution_count": 100,
      "outputs": [
        {
          "output_type": "stream",
          "name": "stdout",
          "text": [
            "{'nombre': 'ana', 'edad': 30, 'ciudad': 'Lima'}\n"
          ]
        }
      ]
    },
    {
      "cell_type": "code",
      "source": [
        "persona[\"ciudad\"]"
      ],
      "metadata": {
        "colab": {
          "base_uri": "https://localhost:8080/",
          "height": 35
        },
        "id": "xBt4KNSxuEEw",
        "outputId": "af6f7312-ffc5-4d1c-ec2c-cc4d530db603"
      },
      "execution_count": 101,
      "outputs": [
        {
          "output_type": "execute_result",
          "data": {
            "text/plain": [
              "'Lima'"
            ],
            "application/vnd.google.colaboratory.intrinsic+json": {
              "type": "string"
            }
          },
          "metadata": {},
          "execution_count": 101
        }
      ]
    },
    {
      "cell_type": "code",
      "source": [
        "persona[\"edad\"]"
      ],
      "metadata": {
        "colab": {
          "base_uri": "https://localhost:8080/"
        },
        "id": "1JNc9j3duGue",
        "outputId": "07fb2d5a-4876-4396-fc77-85bd2d456b0d"
      },
      "execution_count": 102,
      "outputs": [
        {
          "output_type": "execute_result",
          "data": {
            "text/plain": [
              "30"
            ]
          },
          "metadata": {},
          "execution_count": 102
        }
      ]
    },
    {
      "cell_type": "code",
      "source": [
        "persona.get(\"ciudad\")"
      ],
      "metadata": {
        "colab": {
          "base_uri": "https://localhost:8080/",
          "height": 35
        },
        "id": "f489I9f_uI_g",
        "outputId": "8ff79ead-054a-4f81-912a-2791850bd97d"
      },
      "execution_count": 103,
      "outputs": [
        {
          "output_type": "execute_result",
          "data": {
            "text/plain": [
              "'Lima'"
            ],
            "application/vnd.google.colaboratory.intrinsic+json": {
              "type": "string"
            }
          },
          "metadata": {},
          "execution_count": 103
        }
      ]
    },
    {
      "cell_type": "code",
      "source": [
        "persona.get(\"nombre\")"
      ],
      "metadata": {
        "colab": {
          "base_uri": "https://localhost:8080/",
          "height": 35
        },
        "id": "qkOmMHi5uNXo",
        "outputId": "612c6464-81a5-4b11-d3fa-77dee58dd5af"
      },
      "execution_count": 104,
      "outputs": [
        {
          "output_type": "execute_result",
          "data": {
            "text/plain": [
              "'ana'"
            ],
            "application/vnd.google.colaboratory.intrinsic+json": {
              "type": "string"
            }
          },
          "metadata": {},
          "execution_count": 104
        }
      ]
    },
    {
      "cell_type": "code",
      "source": [
        "persona[\"profesion\"]=\"ingeniera\"\n",
        "print(persona)"
      ],
      "metadata": {
        "colab": {
          "base_uri": "https://localhost:8080/"
        },
        "id": "GOaMiubPuT0G",
        "outputId": "86ebe712-0ff7-4789-af05-463a4b72bd55"
      },
      "execution_count": 106,
      "outputs": [
        {
          "output_type": "stream",
          "name": "stdout",
          "text": [
            "{'nombre': 'ana', 'edad': 30, 'ciudad': 'Lima', 'profesion': 'ingeniera'}\n"
          ]
        }
      ]
    },
    {
      "cell_type": "code",
      "source": [
        "del persona[\"profesion\"]\n",
        "print(persona)"
      ],
      "metadata": {
        "colab": {
          "base_uri": "https://localhost:8080/"
        },
        "id": "-48VW23YudKX",
        "outputId": "01736fa7-108a-4c7b-c69d-0fc7e1245ba7"
      },
      "execution_count": 107,
      "outputs": [
        {
          "output_type": "stream",
          "name": "stdout",
          "text": [
            "{'nombre': 'ana', 'edad': 30, 'ciudad': 'Lima'}\n"
          ]
        }
      ]
    },
    {
      "cell_type": "code",
      "source": [
        "#ITEMS en diccionario\n",
        "persona.items()"
      ],
      "metadata": {
        "colab": {
          "base_uri": "https://localhost:8080/"
        },
        "id": "mcgENcdzxWW4",
        "outputId": "103ffe1c-c7ed-4067-9361-ec32b2aac1c5"
      },
      "execution_count": 108,
      "outputs": [
        {
          "output_type": "execute_result",
          "data": {
            "text/plain": [
              "dict_items([('nombre', 'ana'), ('edad', 30), ('ciudad', 'Lima')])"
            ]
          },
          "metadata": {},
          "execution_count": 108
        }
      ]
    },
    {
      "cell_type": "code",
      "source": [
        "for key,value in persona.items():\n",
        "  print(key,value)"
      ],
      "metadata": {
        "colab": {
          "base_uri": "https://localhost:8080/"
        },
        "id": "9lPq-5MMxfdP",
        "outputId": "6db8403f-edeb-4502-cfeb-998e79d48e8f"
      },
      "execution_count": 109,
      "outputs": [
        {
          "output_type": "stream",
          "name": "stdout",
          "text": [
            "nombre ana\n",
            "edad 30\n",
            "ciudad Lima\n"
          ]
        }
      ]
    },
    {
      "cell_type": "code",
      "source": [
        "for key,value in persona.items():\n",
        "  print(\"el key\",key,\"tiene asociado el valor   \",value)"
      ],
      "metadata": {
        "colab": {
          "base_uri": "https://localhost:8080/"
        },
        "id": "0A0dzV73xpyv",
        "outputId": "130c251c-e3a7-4e30-b0e7-69f0db186625"
      },
      "execution_count": 110,
      "outputs": [
        {
          "output_type": "stream",
          "name": "stdout",
          "text": [
            "el key nombre tiene asociado el valor    ana\n",
            "el key edad tiene asociado el valor    30\n",
            "el key ciudad tiene asociado el valor    Lima\n"
          ]
        }
      ]
    },
    {
      "cell_type": "code",
      "source": [
        "#EJERCICIO DICCIONARIO 2: MATRICES\n",
        "carro={\"marca\":\"Jeep\",\n",
        "         \"modelo\":\"Wrangler\",\n",
        "         \"año\":\"2025\",\n",
        "         \"color\":\"rojo\"}\n",
        "\n",
        "carro.get(\"marca\")\n"
      ],
      "metadata": {
        "colab": {
          "base_uri": "https://localhost:8080/",
          "height": 35
        },
        "id": "dYa8hjR0yb3A",
        "outputId": "77350578-388b-49bd-c90b-f65acd44d41a"
      },
      "execution_count": 123,
      "outputs": [
        {
          "output_type": "execute_result",
          "data": {
            "text/plain": [
              "'Jeep'"
            ],
            "application/vnd.google.colaboratory.intrinsic+json": {
              "type": "string"
            }
          },
          "metadata": {},
          "execution_count": 123
        }
      ]
    },
    {
      "cell_type": "code",
      "source": [
        "carro.get(\"modelo\")"
      ],
      "metadata": {
        "colab": {
          "base_uri": "https://localhost:8080/",
          "height": 35
        },
        "id": "bNdtCgEBz8aw",
        "outputId": "4fb311f1-b55f-4d47-cb0f-c38d6a6346ea"
      },
      "execution_count": 124,
      "outputs": [
        {
          "output_type": "execute_result",
          "data": {
            "text/plain": [
              "'Wrangler'"
            ],
            "application/vnd.google.colaboratory.intrinsic+json": {
              "type": "string"
            }
          },
          "metadata": {},
          "execution_count": 124
        }
      ]
    },
    {
      "cell_type": "code",
      "source": [
        "carro.get(\"color\")"
      ],
      "metadata": {
        "colab": {
          "base_uri": "https://localhost:8080/",
          "height": 35
        },
        "id": "QbRGAzJU0A8H",
        "outputId": "832a0c3f-6e38-4207-f760-011a1c041010"
      },
      "execution_count": 126,
      "outputs": [
        {
          "output_type": "execute_result",
          "data": {
            "text/plain": [
              "'rojo'"
            ],
            "application/vnd.google.colaboratory.intrinsic+json": {
              "type": "string"
            }
          },
          "metadata": {},
          "execution_count": 126
        }
      ]
    },
    {
      "cell_type": "code",
      "source": [
        "carro.get(\"año\")"
      ],
      "metadata": {
        "colab": {
          "base_uri": "https://localhost:8080/",
          "height": 35
        },
        "id": "UMyHmSr_z-oI",
        "outputId": "7297823e-5464-4c41-8cf9-a88aa2073832"
      },
      "execution_count": 125,
      "outputs": [
        {
          "output_type": "execute_result",
          "data": {
            "text/plain": [
              "'2025'"
            ],
            "application/vnd.google.colaboratory.intrinsic+json": {
              "type": "string"
            }
          },
          "metadata": {},
          "execution_count": 125
        }
      ]
    },
    {
      "cell_type": "code",
      "source": [
        "carro[\"precio\"]=\"100,000$\"\n",
        "print(carro)"
      ],
      "metadata": {
        "colab": {
          "base_uri": "https://localhost:8080/"
        },
        "id": "JcawYQL6zQLf",
        "outputId": "a90134af-cce1-4580-8833-2010c110dbd5"
      },
      "execution_count": 119,
      "outputs": [
        {
          "output_type": "stream",
          "name": "stdout",
          "text": [
            "{'marca': 'Jeep', 'modelo': 'Wrangler', 'año': '2025', 'color': 'rojo', 'precio': '100,000$'}\n"
          ]
        }
      ]
    },
    {
      "cell_type": "code",
      "source": [
        "del carro[\"precio\"]\n",
        "print(carro)"
      ],
      "metadata": {
        "colab": {
          "base_uri": "https://localhost:8080/"
        },
        "id": "uINKWvGQzmno",
        "outputId": "e60d0a7e-6323-4a0e-f2cd-a544bcf5c222"
      },
      "execution_count": 121,
      "outputs": [
        {
          "output_type": "stream",
          "name": "stdout",
          "text": [
            "{'marca': 'Jeep', 'modelo': 'Wrangler', 'año': '2025', 'color': 'rojo'}\n"
          ]
        }
      ]
    },
    {
      "cell_type": "code",
      "source": [
        "for key,value in carro.items():\n",
        "  print(\"el key\",key,\"tiene asociado el valor   \",value)"
      ],
      "metadata": {
        "colab": {
          "base_uri": "https://localhost:8080/"
        },
        "id": "FYdew8MQz3BJ",
        "outputId": "3042427d-85d3-4adf-a660-22d8d7fd195e"
      },
      "execution_count": 122,
      "outputs": [
        {
          "output_type": "stream",
          "name": "stdout",
          "text": [
            "el key marca tiene asociado el valor    Jeep\n",
            "el key modelo tiene asociado el valor    Wrangler\n",
            "el key año tiene asociado el valor    2025\n",
            "el key color tiene asociado el valor    rojo\n"
          ]
        }
      ]
    }
  ]
}