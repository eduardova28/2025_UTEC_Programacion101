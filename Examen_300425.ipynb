{
  "nbformat": 4,
  "nbformat_minor": 0,
  "metadata": {
    "colab": {
      "provenance": [],
      "name": "Examen_300425.ipynb",
      "authorship_tag": "ABX9TyPv1U22ZGsuoFk7uTWEwfcI",
      "include_colab_link": true
    },
    "kernelspec": {
      "name": "python3",
      "display_name": "Python 3"
    },
    "language_info": {
      "name": "python"
    }
  },
  "cells": [
    {
      "cell_type": "markdown",
      "metadata": {
        "id": "view-in-github",
        "colab_type": "text"
      },
      "source": [
        "<a href=\"https://colab.research.google.com/github/eduardova28/2025_UTEC_Programacion101/blob/main/Examen_300425.ipynb\" target=\"_parent\"><img src=\"https://colab.research.google.com/assets/colab-badge.svg\" alt=\"Open In Colab\"/></a>"
      ]
    },
    {
      "cell_type": "code",
      "source": [
        "#PREGUNTA 01\n",
        "#VALIDACIÓN DE USUARIO\n",
        "InputUser=(input(\"Enter User Name (05 characters):   \"))\n",
        "if len(InputUser)==5:\n",
        "  if InputUser[0].isupper() and InputUser[-1].isnumeric():\n",
        "    print(\"Valid User\")\n",
        "  else:\n",
        "    print(\"Invalid User\")\n",
        "else:\n",
        "  print(\"Invalid User\")"
      ],
      "metadata": {
        "colab": {
          "base_uri": "https://localhost:8080/"
        },
        "id": "m8GNogTjLTtA",
        "outputId": "df1f103e-128e-4327-ac47-1126bf07046d"
      },
      "execution_count": null,
      "outputs": [
        {
          "output_type": "stream",
          "name": "stdout",
          "text": [
            "Enter User Name (05 characters):   Edua0\n",
            "Valid User\n"
          ]
        }
      ]
    },
    {
      "cell_type": "code",
      "source": [
        "#PREGUNTA 02\n",
        "#Nivel de seguridad numérico\n",
        "InputCode=(input(\"Enter Access code (03 digits):   \"))\n",
        "if len(InputCode)==3 and InputCode.isnumeric():\n",
        "  if InputCode[0]==InputCode[1] and InputCode[1]==InputCode[2]:\n",
        "    print(\"Low\")\n",
        "  elif InputCode[0]==InputCode[1] or InputCode[1]==InputCode[2] or InputCode[0]==InputCode[2]:\n",
        "    print(\"Medium\")\n",
        "  else:\n",
        "    print(\"High\")\n",
        "else:\n",
        "  print(\"Invalid Code\")"
      ],
      "metadata": {
        "colab": {
          "base_uri": "https://localhost:8080/"
        },
        "id": "EB3U5eQyMiop",
        "outputId": "072b96e1-90dc-4462-b426-3d07ace457c1"
      },
      "execution_count": null,
      "outputs": [
        {
          "output_type": "stream",
          "name": "stdout",
          "text": [
            "Enter Access code (03 digits):   129\n",
            "High\n"
          ]
        }
      ]
    },
    {
      "cell_type": "code",
      "source": [
        "#PREGUNTA 03\n",
        "# CÓDIGO DE ACCESO\n",
        "InputNumber=(input(\"Enter Numer (03 digits):   \"))\n",
        "Numer1=InputNumber[0]\n",
        "Numer2=InputNumber[1]\n",
        "Numer3=InputNumber[2]\n",
        "if len(InputNumber)==3 and InputNumber.isnumeric():\n",
        "  if int(Numer1)+int(Numer2)+int(Numer3)==10:\n",
        "    print(\"Valid Code\")\n",
        "  else:\n",
        "    print(\"Invalid Code\")\n",
        "else:\n",
        "  print(\"Invalid Code\")\n"
      ],
      "metadata": {
        "colab": {
          "base_uri": "https://localhost:8080/"
        },
        "id": "H7qEOWm9Puwo",
        "outputId": "2b4d8af2-dabd-4dd4-a16f-b2199a29e53f"
      },
      "execution_count": null,
      "outputs": [
        {
          "output_type": "stream",
          "name": "stdout",
          "text": [
            "Enter Numer (03 digits):   127\n",
            "Valid Code\n"
          ]
        }
      ]
    },
    {
      "cell_type": "code",
      "source": [
        "#PREGUNTA 04\n",
        "#IDENTIFICADOR DE CARACTER\n",
        "Character=input(\"Enter 01 Character:   \")\n",
        "if len(Character)==1:\n",
        "  if Character.isnumeric():\n",
        "    print(\"Character is a number\")\n",
        "  elif Character.isalpha():\n",
        "    if Character.isupper():\n",
        "      print(\"Character is an uppercase letter\")\n",
        "    else:\n",
        "      print(\"Character is a lowercase letter\")\n",
        "  else:\n",
        "    print(\"Character is a special character\")\n",
        "else:\n",
        "    print(\"Invalid character, enter only 01 character\")\n",
        "\n",
        "\n",
        "\n",
        "\n"
      ],
      "metadata": {
        "colab": {
          "base_uri": "https://localhost:8080/"
        },
        "id": "aRG0WkH7SaSC",
        "outputId": "33689d7d-8952-4c08-caa6-513930b179e6"
      },
      "execution_count": null,
      "outputs": [
        {
          "output_type": "stream",
          "name": "stdout",
          "text": [
            "Enter 01 Character:   %\n",
            "Character is a special character\n"
          ]
        }
      ]
    },
    {
      "cell_type": "code",
      "source": [
        "#PREGUNTA 05\n",
        "#VERIFICACIÓN CRUZADA DE IDENTIDAD\n",
        "Code=(input(\"Enter Code (06 characters):   \"))\n",
        "Num=(input(\"Enter Number (03 characters):   \"))\n",
        "Let=(input(\"Enter Let (01 character)\"))\n",
        "\n",
        "Num1=Num[0]\n",
        "Num2=Num[1]\n",
        "Num3=Num[2]\n",
        "if len(Code)==6 and len(Num)==3 and len(Let)==1:\n",
        "  if Code[0].isupper and Code[-1].isnumeric() and (int(Num1)+int(Num2)+int(Num3))%2==0 and Let.lower() in Code:\n",
        "    print(\"ID Checked!\")\n",
        "  else:\n",
        "   print(\"Acces denied\")\n",
        "else:\n",
        "  print(\"Acces denied\")\n"
      ],
      "metadata": {
        "colab": {
          "base_uri": "https://localhost:8080/"
        },
        "id": "_Zgrz0rrT6Yr",
        "outputId": "62db9151-6a5f-4ded-91e9-ad2d529f907e"
      },
      "execution_count": null,
      "outputs": [
        {
          "output_type": "stream",
          "name": "stdout",
          "text": [
            "Enter Code (06 characters):   Asdsd4\n",
            "Enter Number (03 characters):   444\n",
            "Enter Let (01 character)S\n",
            "ID Checked!\n"
          ]
        }
      ]
    }
  ]
}