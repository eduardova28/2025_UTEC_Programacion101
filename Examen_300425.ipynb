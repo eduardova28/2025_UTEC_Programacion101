{
  "nbformat": 4,
  "nbformat_minor": 0,
  "metadata": {
    "colab": {
      "provenance": [],
      "name": "Examen_300425.ipynb",
      "authorship_tag": "ABX9TyPlfn1/u+zxgSOWXzduXmxn",
      "include_colab_link": true
    },
    "kernelspec": {
      "name": "python3",
      "display_name": "Python 3"
    },
    "language_info": {
      "name": "python"
    }
  },
  "cells": [
    {
      "cell_type": "markdown",
      "metadata": {
        "id": "view-in-github",
        "colab_type": "text"
      },
      "source": [
        "<a href=\"https://colab.research.google.com/github/eduardova28/2025_UTEC_Programacion101/blob/main/Examen_300425.ipynb\" target=\"_parent\"><img src=\"https://colab.research.google.com/assets/colab-badge.svg\" alt=\"Open In Colab\"/></a>"
      ]
    },
    {
      "cell_type": "code",
      "source": [
        "#PRIMER EJERCICIO LISTA DE EXAMEN\n",
        "# VERIFICACION NUMERICA SENCILLA\n",
        "Numero=(input(\"ingrese numero de 02 cifras aqui    \"))\n",
        "if len(Numero)==2 and Numero.isnumeric():\n",
        "  print(\"numero valido\")\n",
        "  if Numero[0]==Numero[1]:\n",
        "    print(\"Digitos iguales\")\n",
        "  else:\n",
        "    print(\"Digitos no iguales\")\n",
        "else:\n",
        "  print(\"numero invalido, ingrese un numero de 02 cifras\")\n",
        "\n",
        "\n",
        "\n"
      ],
      "metadata": {
        "colab": {
          "base_uri": "https://localhost:8080/"
        },
        "id": "2f41ZHjqMwdC",
        "outputId": "63272ace-7c92-418c-a8be-a0fef50fd8bd"
      },
      "execution_count": null,
      "outputs": [
        {
          "output_type": "stream",
          "name": "stdout",
          "text": [
            "ingrese numero de 02 cifras aqui    11\n",
            "numero valido\n",
            "Digitos iguales\n"
          ]
        }
      ]
    },
    {
      "cell_type": "code",
      "source": [
        "#SEGUNDO EJERCICIO LISTA EXAMEN\n",
        "# CLASIFICACIÓN DE LETRA\n",
        "Caracter=(input(\"ingrese caracter aqui    \"))\n",
        "if Caracter.upper()==\"A\" or Caracter==\"E\" or Caracter==\"I\" or Caracter==\"O\" or Caracter==\"U\":\n",
        "  print(\"es No Consonante\")\n",
        "else:\n",
        "  if Caracter.isupper():\n",
        "    print(\"es consonante mayuscula\")\n",
        "  else:\n",
        "    print(\"es conosonante minuscula\")"
      ],
      "metadata": {
        "colab": {
          "base_uri": "https://localhost:8080/"
        },
        "id": "l6YiI_WfHqQu",
        "outputId": "f0cb2d4d-416f-4a20-b96a-3ffe8124b2f7"
      },
      "execution_count": null,
      "outputs": [
        {
          "output_type": "stream",
          "name": "stdout",
          "text": [
            "ingrese caracter aqui    A\n",
            "es No Consonante\n"
          ]
        }
      ]
    },
    {
      "cell_type": "code",
      "source": [
        "#TERCER EJERCICIO LISTA EXAMEN\n",
        "#VERIFICADOR DE AÑO BISIESTO SIMPLIFICADO\n",
        "InputYear=(input(\"ingrese año    \"))\n",
        "Checker=(float(InputYear))/4\n",
        "if (InputYear.isnumeric()):\n",
        "  print(\"Año valido\")\n",
        "  if Checker.is_integer():\n",
        "    print(\" Si es bisiesto como tu año de nacimiento\")\n",
        "  else:\n",
        "    print(\"NO ES BISIESTO\")\n",
        "else:\n",
        "  print(\"Año invalido\")\n",
        "\n"
      ],
      "metadata": {
        "colab": {
          "base_uri": "https://localhost:8080/"
        },
        "id": "4dDj5l3KMfkG",
        "outputId": "71837bae-06b5-44d8-ce50-fa82c803b994"
      },
      "execution_count": null,
      "outputs": [
        {
          "output_type": "stream",
          "name": "stdout",
          "text": [
            "ingrese año    1991\n",
            "Año valido\n",
            "NO ES BISIESTO\n"
          ]
        }
      ]
    },
    {
      "cell_type": "code",
      "source": [
        "#CUARTO EJERCICIO\n",
        "#RANGO NUMERICO\n",
        "EnterNumber=input(\"Ingrese numero :  \")\n",
        "if EnterNumber.isnumeric():\n",
        "  print(\"Numero ingresado es válido\")\n",
        "  if float(EnterNumber)>=10 and float(EnterNumber)<=20:\n",
        "    print(\"El numero esta en el rango de 10 a 20\")\n",
        "  else:\n",
        "    print(\"El numero no esta en el rango de 10 a 20\")\n",
        "else:\n",
        "  print(\"Numero ingresado es invalido\")\n"
      ],
      "metadata": {
        "colab": {
          "base_uri": "https://localhost:8080/"
        },
        "id": "rZYDGFqWOraA",
        "outputId": "728b83cf-33c3-48fe-d25f-c745c56ec730"
      },
      "execution_count": null,
      "outputs": [
        {
          "output_type": "stream",
          "name": "stdout",
          "text": [
            "Ingrese numero :  aa\n",
            "Numero ingresado es invalido\n"
          ]
        }
      ]
    },
    {
      "cell_type": "code",
      "source": [
        "#SEXTO EJERCICIO\n",
        "#COMPARADOR DE CARACTERES\n",
        "EnterCharacter1=input(\"Enter Character 1  :  \")\n",
        "EnterCharacter2=input(\"Enter Character 2  :  \")\n",
        "if ord(EnterCharacter1)>ord(EnterCharacter2):\n",
        "    print(\"A es mayor a B\")\n",
        "elif ord(EnterCharacter1)==ord(EnterCharacter2):\n",
        "  print(\"Los caracteres son iguales\")\n",
        "else:\n",
        "    print(\"B es mayor a A\")"
      ],
      "metadata": {
        "colab": {
          "base_uri": "https://localhost:8080/"
        },
        "id": "aY2TBRvWYKrG",
        "outputId": "15634068-5ab1-4663-9ba3-1a1c5c365d18"
      },
      "execution_count": null,
      "outputs": [
        {
          "output_type": "stream",
          "name": "stdout",
          "text": [
            "Enter Character 1  :  é\n",
            "Enter Character 2  :  é\n",
            "Los caracteres son iguales\n"
          ]
        }
      ]
    },
    {
      "cell_type": "code",
      "source": [
        "#SEPTIMO EJERCICIO\n",
        "# CONTRASEÑA NUMERICA CORTA\n",
        "EnterPassword=input((\"Enter Password 03 digits:\"))\n",
        "if len(EnterPassword)==3 and EnterPassword.isnumeric():\n",
        "  if EnterPassword==\"369\":\n",
        "    print(\"Access\")\n",
        "  else:\n",
        "    print(\"Wrong Password: Denied\")\n",
        "else:\n",
        "  print(\"Wrong, Enter 03 digits\")"
      ],
      "metadata": {
        "colab": {
          "base_uri": "https://localhost:8080/"
        },
        "id": "bnAl856wazxl",
        "outputId": "570b5122-5395-4415-eaf2-a06cc34bf11f"
      },
      "execution_count": null,
      "outputs": [
        {
          "output_type": "stream",
          "name": "stdout",
          "text": [
            "Enter Password 03 digits:369\n",
            "Access\n"
          ]
        }
      ]
    },
    {
      "cell_type": "code",
      "source": [
        "#OCTAVO EJERCICIO\n",
        "# VOCALES SEGUIDAS\n",
        "Letter1=input(\"Enter Letter 1: \").upper().strip()\n",
        "Letter2=input(\"Enter Letter 2: \").upper().strip()\n",
        "vocales=[\"A\",\"E\",\"I\",\"O\",\"U\"]\n",
        "if Letter1.isalpha() and Letter2.isalpha():\n",
        "  print(\"Letters are valid\")\n",
        "  if Letter1 in vocales and Letter2 in vocales:\n",
        "   print(\"Both are vocals\")\n",
        "  else:\n",
        "   print(\"Both or one of them are not vocals\")\n",
        "else:\n",
        "  print(\"Letters are invalid\")"
      ],
      "metadata": {
        "colab": {
          "base_uri": "https://localhost:8080/"
        },
        "id": "GpnwaiFYcOc8",
        "outputId": "83e59c0c-aaa4-4204-f566-c3e37d1b0898"
      },
      "execution_count": null,
      "outputs": [
        {
          "output_type": "stream",
          "name": "stdout",
          "text": [
            "Enter Letter 1: A\n",
            "Enter Letter 2:    u\n",
            "Letters are valid\n",
            "Both are vocals\n"
          ]
        }
      ]
    }
  ]
}