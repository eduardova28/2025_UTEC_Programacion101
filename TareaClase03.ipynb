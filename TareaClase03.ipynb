{
  "nbformat": 4,
  "nbformat_minor": 0,
  "metadata": {
    "colab": {
      "provenance": [],
      "name": "TareaClase03ipynb",
      "authorship_tag": "ABX9TyNFEIfWaM2uljaXvtEU6WPt",
      "include_colab_link": true
    },
    "kernelspec": {
      "name": "python3",
      "display_name": "Python 3"
    },
    "language_info": {
      "name": "python"
    }
  },
  "cells": [
    {
      "cell_type": "markdown",
      "metadata": {
        "id": "view-in-github",
        "colab_type": "text"
      },
      "source": [
        "<a href=\"https://colab.research.google.com/github/eduardova28/2025_UTEC_Programacion101/blob/main/TareaClase03.ipynb\" target=\"_parent\"><img src=\"https://colab.research.google.com/assets/colab-badge.svg\" alt=\"Open In Colab\"/></a>"
      ]
    },
    {
      "cell_type": "code",
      "execution_count": 8,
      "metadata": {
        "id": "yIlZfIgiOZwq",
        "colab": {
          "base_uri": "https://localhost:8080/"
        },
        "outputId": "a2d68fc1-dfea-4782-e22a-b89de6da8559"
      },
      "outputs": [
        {
          "output_type": "stream",
          "name": "stdout",
          "text": [
            "Input Savings Monday1\n",
            "Input Savings Tuesday1\n",
            "Input Savings Wendsday1\n",
            "Input Savings Thursday1\n",
            "Input Savings Friday1\n",
            "Input Savings Saturday1\n",
            "Input Savings Sunday1\n",
            "Ahorro Semanal    7.0\n",
            "Ingrese cuantos dias tiene el mes31\n",
            "Tu ahorro mensual es    31.0\n"
          ]
        }
      ],
      "source": [
        "#EJERCICIO 01\n",
        "Monday=float(input(\"Input Savings Monday\"))\n",
        "Tuesday=float(input(\"Input Savings Tuesday\"))\n",
        "Wendsday=float(input(\"Input Savings Wendsday\"))\n",
        "Thursday=float(input(\"Input Savings Thursday\"))\n",
        "Friday=float(input(\"Input Savings Friday\"))\n",
        "Saturday=float(input(\"Input Savings Saturday\"))\n",
        "Sunday=float(input(\"Input Savings Sunday\"))\n",
        "\n",
        "WeeklySavings=Monday+Tuesday+Wendsday+Thursday+Friday+Saturday+Sunday\n",
        "print(\"Ahorro Semanal\"+\"    \"+str(SavesWeekly))\n",
        "\n",
        "DaysofMonth=float(input(\"Ingrese cuantos dias tiene el mes\"))\n",
        "MonthlySavings=SavesWeekly/7*DaysofMonth\n",
        "print(\"Tu ahorro mensual es\"+\"    \"+str(MonthlySavings))\n",
        "\n"
      ]
    },
    {
      "cell_type": "code",
      "source": [
        "1==1"
      ],
      "metadata": {
        "colab": {
          "base_uri": "https://localhost:8080/"
        },
        "id": "eGFd7Y-3Wrto",
        "outputId": "bba40d16-8fb4-4fa6-ab0d-09e960f5b166"
      },
      "execution_count": 10,
      "outputs": [
        {
          "output_type": "execute_result",
          "data": {
            "text/plain": [
              "True"
            ]
          },
          "metadata": {},
          "execution_count": 10
        }
      ]
    }
  ]
}