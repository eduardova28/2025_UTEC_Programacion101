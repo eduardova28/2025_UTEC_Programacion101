{
  "nbformat": 4,
  "nbformat_minor": 0,
  "metadata": {
    "colab": {
      "provenance": [],
      "name": "TareaClase03ipynb",
      "authorship_tag": "ABX9TyPgIPt7esKJnzDTRDvvNPWD",
      "include_colab_link": true
    },
    "kernelspec": {
      "name": "python3",
      "display_name": "Python 3"
    },
    "language_info": {
      "name": "python"
    }
  },
  "cells": [
    {
      "cell_type": "markdown",
      "metadata": {
        "id": "view-in-github",
        "colab_type": "text"
      },
      "source": [
        "<a href=\"https://colab.research.google.com/github/eduardova28/2025_UTEC_Programacion101/blob/main/TareaClase03.ipynb\" target=\"_parent\"><img src=\"https://colab.research.google.com/assets/colab-badge.svg\" alt=\"Open In Colab\"/></a>"
      ]
    },
    {
      "cell_type": "code",
      "execution_count": 11,
      "metadata": {
        "id": "yIlZfIgiOZwq",
        "colab": {
          "base_uri": "https://localhost:8080/"
        },
        "outputId": "3d3706a2-8aa6-47cc-fcea-94b9fc7ec5ce"
      },
      "outputs": [
        {
          "output_type": "stream",
          "name": "stdout",
          "text": [
            "Input Savings Monday1\n",
            "Input Savings Tuesday1\n",
            "Input Savings Wendsday1\n",
            "Input Savings Thursday1\n",
            "Input Savings Friday1\n",
            "Input Savings Saturday1\n",
            "Input Savings Sunday1\n",
            "Your Weekly Saving area    7.0\n",
            "Ingrese cuantos dias tiene el mes31\n",
            "Your Monthly Savings are    31.0\n"
          ]
        }
      ],
      "source": [
        "#EJERCICIO 01 CALCULADORA DE AHORRO SEMANAL\n",
        "Monday=float(input(\"Input Savings Monday\"))\n",
        "Tuesday=float(input(\"Input Savings Tuesday\"))\n",
        "Wendsday=float(input(\"Input Savings Wendsday\"))\n",
        "Thursday=float(input(\"Input Savings Thursday\"))\n",
        "Friday=float(input(\"Input Savings Friday\"))\n",
        "Saturday=float(input(\"Input Savings Saturday\"))\n",
        "Sunday=float(input(\"Input Savings Sunday\"))\n",
        "\n",
        "WeeklySavings=Monday+Tuesday+Wendsday+Thursday+Friday+Saturday+Sunday\n",
        "print(\"Your Weekly Saving area\"+\"    \"+str(SavesWeekly))\n",
        "\n",
        "DaysofMonth=float(input(\"Ingrese cuantos dias tiene el mes\"))\n",
        "MonthlySavings=SavesWeekly/7*DaysofMonth\n",
        "print(\"Your Monthly Savings are\"+\"    \"+str(MonthlySavings))\n",
        "\n"
      ]
    },
    {
      "cell_type": "code",
      "source": [
        "#EJERCICIO 02: CONVERSOR DE SEGUNDOS\n",
        "\n",
        "SecondsInput=float(input(\"Enter total seconds\"))\n",
        "Minutes=SecondsInput//60\n",
        "Seconds=SecondsInput %60\n",
        "\n",
        "print(str(SecondsInput)+\" are \"+str(Minutes)+\" minutes and \"+str(Seconds)+\" seconds\")\n",
        "\n",
        "\n"
      ],
      "metadata": {
        "colab": {
          "base_uri": "https://localhost:8080/"
        },
        "id": "eGFd7Y-3Wrto",
        "outputId": "ce9d3e01-e671-4f8b-c326-c8922de12933"
      },
      "execution_count": 19,
      "outputs": [
        {
          "output_type": "stream",
          "name": "stdout",
          "text": [
            "Enter total seconds70\n",
            "70.0 are 1.0 minutes and 10.0 seconds\n"
          ]
        }
      ]
    },
    {
      "cell_type": "code",
      "source": [
        "# EJERCIO 03: PUNTUACIÓN DE JUEGO\n",
        "star=float(input(\"EnterStars  \"))\n",
        "gem=float(input(\"EnterGems  \"))\n",
        "secondsalive=float(input(\"EnterSeconsalive   \"))\n",
        "\n",
        "Totalpoints=star*10+gem*50+secondsalive\n",
        "print(Totalpoints)\n"
      ],
      "metadata": {
        "colab": {
          "base_uri": "https://localhost:8080/"
        },
        "id": "md0IVXbmfAAe",
        "outputId": "34de2ef6-3d41-45ec-8ad5-7efd93772c39"
      },
      "execution_count": 22,
      "outputs": [
        {
          "output_type": "stream",
          "name": "stdout",
          "text": [
            "EnterStars  1\n",
            "EnterGems  1\n",
            "EnterSeconsalive   1\n",
            "61.0\n"
          ]
        }
      ]
    },
    {
      "cell_type": "code",
      "source": [
        "#EJERCICIO 04: CONVERSOR DE MONEDAS CON TASA PERSONALIZADA\n",
        "\n",
        "Soles=float(input(\"EnterSoles  \"))\n",
        "TasaCambio=float(input(\"EnterChangeRate Soles to Dollars \"))\n",
        "Dollars=Soles/TasaCambio\n",
        "print(str(\"Amount in dollars is   \")+str(round(Dollars,2)))\n",
        "\n"
      ],
      "metadata": {
        "colab": {
          "base_uri": "https://localhost:8080/"
        },
        "id": "mCr6Md7hpUSo",
        "outputId": "7528fa34-9701-49d9-c3ad-a8a77c461873"
      },
      "execution_count": 27,
      "outputs": [
        {
          "output_type": "stream",
          "name": "stdout",
          "text": [
            "EnterSoles  1\n",
            "EnterChangeRate Soles to Dollars 3.75\n",
            "Amount in dollars is   0.27\n"
          ]
        }
      ]
    },
    {
      "cell_type": "code",
      "source": [
        "#EJERCICIO 05: COSTO COMPARTIDO DE VIAJE\n",
        "Gasolina=float(input(\"ingrese costo de gasolina\"))\n",
        "Peajes=float(input(\"ingrese costo de peaje\"))\n",
        "Comida=float(input(\"ingrese costo de comida\"))\n",
        "\n",
        "CostoTotal=(Gasolina+Peajes+Comida)/3\n",
        "print(f\"cada uno tiene que pagar   \"+str(CostoTotal))\n"
      ],
      "metadata": {
        "id": "KgQstGX0vvpe",
        "outputId": "3654c61a-d53e-4e4e-afc3-f31e43589abc",
        "colab": {
          "base_uri": "https://localhost:8080/"
        }
      },
      "execution_count": 30,
      "outputs": [
        {
          "output_type": "stream",
          "name": "stdout",
          "text": [
            "ingrese costo de gasolina50\n",
            "ingrese costo de peaje40\n",
            "ingrese costo de comida50\n",
            "cada uno tiene que pagar   46.666666666666664\n"
          ]
        }
      ]
    }
  ]
}