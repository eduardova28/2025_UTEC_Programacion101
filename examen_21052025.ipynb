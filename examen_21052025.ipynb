{
  "nbformat": 4,
  "nbformat_minor": 0,
  "metadata": {
    "colab": {
      "provenance": [],
      "name": "examen_21052025.ipynb",
      "authorship_tag": "ABX9TyMgT0Feh/edZpmNQe67RVhT",
      "include_colab_link": true
    },
    "kernelspec": {
      "name": "python3",
      "display_name": "Python 3"
    },
    "language_info": {
      "name": "python"
    }
  },
  "cells": [
    {
      "cell_type": "markdown",
      "metadata": {
        "id": "view-in-github",
        "colab_type": "text"
      },
      "source": [
        "<a href=\"https://colab.research.google.com/github/eduardova28/2025_UTEC_Programacion101/blob/main/examen_21052025.ipynb\" target=\"_parent\"><img src=\"https://colab.research.google.com/assets/colab-badge.svg\" alt=\"Open In Colab\"/></a>"
      ]
    },
    {
      "cell_type": "code",
      "execution_count": 21,
      "metadata": {
        "colab": {
          "base_uri": "https://localhost:8080/"
        },
        "id": "on_1W03nQN6N",
        "outputId": "833b125e-c17c-4a04-c6ee-8b6f13994a12"
      },
      "outputs": [
        {
          "output_type": "stream",
          "name": "stdout",
          "text": [
            "['Breaking Python', 'Data Science 101', 'Machine Love', 'Debug Wars']\n",
            "['Breaking Python', 'Data Science 101', 'Machine Love', 'Debug Wars', 'Neural Networks']\n",
            "['Breaking Python', 'Data Science 101', 'Machine Love', 'AI Rebellion', 'Neural Networks']\n",
            "['AI Rebellion', 'Breaking Python', 'Data Science 101', 'Machine Love', 'Neural Networks']\n"
          ]
        }
      ],
      "source": [
        "#01 CATALOGO DE CONTENIDO\n",
        "\n",
        "catalogo_popular = (\"Breaking Python\", \"Data Science 101\", \"Machine Love\", \"Debug Wars\")\n",
        "\n",
        "## tupla a lista\n",
        "catalogo_popular_lista=list(catalogo_popular)\n",
        "print(catalogo_popular_lista)\n",
        "catalogo_popular_lista.append(\"Neural Networks\")\n",
        "\n",
        "print(catalogo_popular_lista)\n",
        "\n",
        "indice = catalogo_popular_lista.index(\"Debug Wars\")\n",
        "catalogo_popular_lista[indice] = \"AI Rebellion\"\n",
        "print(catalogo_popular_lista)\n",
        "\n",
        "catalogo_popular_lista.sort()\n",
        "print(catalogo_popular_lista)"
      ]
    },
    {
      "cell_type": "code",
      "source": [
        "# 02 Filtrado de géneros (Slicing)\n",
        "generos = [\"Drama\", \"Comedia\", \"Acción\", \"Sci-Fi\", \"Documental\", \"Terror\", \"Romance\"]\n",
        "\n",
        "generos_medio = generos[1:5]\n",
        "print(generos_medio)\n",
        "\n",
        "generos_primeros = generos[:3]\n",
        "print(generos_primeros)\n",
        "\n",
        "generos_inverso = generos[::-1]\n",
        "print(generos_inverso)\n"
      ],
      "metadata": {
        "colab": {
          "base_uri": "https://localhost:8080/"
        },
        "id": "dmtb_-ertpPo",
        "outputId": "07c6c7ee-6265-4209-b999-a3cadc54c793"
      },
      "execution_count": 50,
      "outputs": [
        {
          "output_type": "stream",
          "name": "stdout",
          "text": [
            "['Comedia', 'Acción', 'Sci-Fi', 'Documental']\n",
            "['Drama', 'Comedia', 'Acción']\n",
            "['Romance', 'Terror', 'Documental', 'Sci-Fi', 'Acción', 'Comedia', 'Drama']\n"
          ]
        }
      ]
    },
    {
      "cell_type": "code",
      "source": [
        "# 3 Puntajes de usuarios (Listas por comprensión)\n",
        "ratings = [4.5, 3.0, 5.0, 2.5, 4.0, 1.5]\n",
        "\n",
        "ratings_mayor_3_5 = [rating for rating in ratings if rating > 3.5]\n",
        "print(ratings_mayor_3_5)\n",
        "\n",
        "ratings_100 = [int(rating * 10) for rating in ratings]\n",
        "print(ratings_100)\n",
        "\n",
        "ratings_strings = [\"Alta\" if rating > 4 else \"Media\" if rating >= 3 else \"Baja\" for rating in ratings]\n",
        "print(ratings_strings)\n",
        "\n"
      ],
      "metadata": {
        "colab": {
          "base_uri": "https://localhost:8080/"
        },
        "id": "2SBbU1levbIQ",
        "outputId": "e8fc7fec-5e19-49ab-fff3-ca5bdffe511c"
      },
      "execution_count": 51,
      "outputs": [
        {
          "output_type": "stream",
          "name": "stdout",
          "text": [
            "[4.5, 5.0, 4.0]\n",
            "[45, 30, 50, 25, 40, 15]\n",
            "['Alta', 'Media', 'Alta', 'Baja', 'Media', 'Baja']\n"
          ]
        }
      ]
    },
    {
      "cell_type": "code",
      "source": [
        "#04 HISTORIAL DE VISUALIZACIONES (DICCIONARIOS)\n",
        "\n",
        "historial = {\n",
        "  \"Breaking Python\": 3,\n",
        "  \"Machine Love\": 5,\n",
        "  \"Data Science 101\": 2\n",
        "}\n",
        "\n",
        "\n",
        "historial[\"Data Science 101\"]+=1\n",
        "print(historial)\n",
        "historial[\"AI_Rebellion\"]=1\n",
        "print(historial)\n",
        "del historial[\"Machine Love\"]\n",
        "print(historial)\n",
        "\n",
        "series_vistas = [serie for serie, vistas in historial.items() if vistas>2]\n",
        "print(\"Series con mas de 2 vistas\",series_vistas)\n",
        "\n"
      ],
      "metadata": {
        "colab": {
          "base_uri": "https://localhost:8080/"
        },
        "id": "UMXqmpBQvfFv",
        "outputId": "0110dcd3-f358-431d-8978-012cbe7e8512"
      },
      "execution_count": 24,
      "outputs": [
        {
          "output_type": "stream",
          "name": "stdout",
          "text": [
            "{'Breaking Python': 3, 'Machine Love': 5, 'Data Science 101': 3}\n",
            "{'Breaking Python': 3, 'Machine Love': 5, 'Data Science 101': 3, 'AI_Rebellion': 1}\n",
            "{'Breaking Python': 3, 'Data Science 101': 3, 'AI_Rebellion': 1}\n",
            "Series con mas de 2 vistas ['Breaking Python', 'Data Science 101']\n"
          ]
        }
      ]
    },
    {
      "cell_type": "code",
      "source": [
        "#05 USUARIOS UNICOS POR SERIE (SETS)\n",
        "\n",
        "usuarios_serie_A = {\"ana\", \"luis\", \"pedro\", \"maria\"}\n",
        "usuarios_serie_B = {\"maria\", \"pedro\", \"carla\", \"lucas\"}\n",
        "\n",
        "usuario_ambas_series=usuarios_serie_A.intersection(usuarios_serie_B)\n",
        "print(\"Usuarios en ambas series\",usuario_ambas_series)\n",
        "\n",
        "usuarios_solo_serie_A=usuarios_serie_A.difference(usuarios_serie_B)\n",
        "print(\"Usuarios solo en serie A\",usuarios_solo_serie_A)\n",
        "\n",
        "usuarios_unicos=usuarios_serie_A.union(usuarios_serie_B)\n",
        "print(\"Usuarios unicos\",usuarios_unicos)"
      ],
      "metadata": {
        "colab": {
          "base_uri": "https://localhost:8080/"
        },
        "id": "hp0PnxjWwo3i",
        "outputId": "6e27de4a-10e4-41f1-b8b1-999c3edf4bf1"
      },
      "execution_count": 27,
      "outputs": [
        {
          "output_type": "stream",
          "name": "stdout",
          "text": [
            "Usuarios en ambas series {'maria', 'pedro'}\n",
            "Usuarios solo en serie A {'luis', 'ana'}\n",
            "Usuarios unicos {'lucas', 'maria', 'luis', 'carla', 'ana', 'pedro'}\n"
          ]
        }
      ]
    },
    {
      "cell_type": "code",
      "source": [
        "# 06: Recomendaciones compartidas (Diccionario + Sets)\n",
        "recomendaciones = {\n",
        "  \"ana\": {\"Machine Love\", \"AI Rebellion\"},\n",
        "  \"luis\": {\"AI Rebellion\", \"Debug Wars\"},\n",
        "  \"pedro\": {\"Debug Wars\", \"Machine Love\"}\n",
        "}\n",
        "\n",
        "series_comunes = None\n",
        "for usuario, series in recomendaciones.items():\n",
        "    if series_comunes is None:\n",
        "        series_comunes = set(series)\n",
        "    else:\n",
        "        series_comunes = series_comunes & series\n",
        "print(\"Series recomendadas a todos:\", series_comunes)\n",
        "\n",
        "conteo_series = {}\n",
        "for usuario, series in recomendaciones.items():\n",
        "    for serie in series:\n",
        "        conteo_series[serie] = conteo_series.get(serie, 0) + 1\n",
        "\n",
        "series_al_menos_dospersonas = {serie for serie, count in conteo_series.items() if count >= 2}\n",
        "print(\"Series recomendadas a al menos dos personas:\", series_al_menos_dospersonas)\n",
        "\n",
        "\n",
        "series_unicas = {serie for serie, count in conteo_series.items() if count == 1}\n",
        "print(\"Series recomendadas solo a una persona:\", series_unicas)"
      ],
      "metadata": {
        "colab": {
          "base_uri": "https://localhost:8080/"
        },
        "id": "_Ypub2og2XrJ",
        "outputId": "cef710b5-11bb-42e5-bb82-bd97c75449b7"
      },
      "execution_count": 61,
      "outputs": [
        {
          "output_type": "stream",
          "name": "stdout",
          "text": [
            "Series recomendadas a todos: set()\n",
            "Series recomendadas a al menos dos personas: {'AI Rebellion', 'Machine Love', 'Debug Wars'}\n",
            "Series recomendadas solo a una persona: set()\n"
          ]
        }
      ]
    },
    {
      "cell_type": "code",
      "source": [
        "#07 Transformar ratings (Tuplas + comprensión de diccionario)\n",
        "\n",
        "puntuaciones=[(\"Breaking Python\", 4.0), (\"AI Rebellion\", 5.0), (\"Debug Wars\",2.0)]\n",
        "\n",
        "calificacion_serie={}\n",
        "\n",
        "for serie, rating in puntuaciones:\n",
        "  if rating>=4.5:\n",
        "    calificacion_serie[serie]=\"Excelente\"\n",
        "  elif 3<=rating<4.5:\n",
        "    calificacion_serie[serie]=\"Buena\"\n",
        "  else:\n",
        "    calificacion_serie[serie]=\"Regular\"\n",
        "\n",
        "print(calificacion_serie)"
      ],
      "metadata": {
        "colab": {
          "base_uri": "https://localhost:8080/"
        },
        "id": "TMHVvSq3xQmQ",
        "outputId": "70d6f365-985a-4f7e-e464-6308c76fdf68"
      },
      "execution_count": 31,
      "outputs": [
        {
          "output_type": "stream",
          "name": "stdout",
          "text": [
            "{'Breaking Python': 'Buena', 'AI Rebellion': 'Excelente', 'Debug Wars': 'Regular'}\n"
          ]
        }
      ]
    },
    {
      "cell_type": "code",
      "source": [
        "# 08 Usuarios y géneros favoritos (Diccionario + slicing)\n",
        "gustos = {\n",
        "  \"ana\": [\"Sci-Fi\", \"Drama\", \"Documental\"],\n",
        "  \"luis\": [\"Comedia\", \"Acción\", \"Sci-Fi\"],\n",
        "  \"pedro\": [\"Drama\", \"Sci-Fi\", \"Romance\"]\n",
        "}\n",
        "\n",
        "primer_genero_usuario = {usuario: gustos[usuario][0] for usuario in gustos}\n",
        "print(primer_genero_usuario)\n",
        "\n",
        "generos_mencionados = {genero for gustos_usuario in gustos.values() for genero in gustos_usuario}\n",
        "print(generos_mencionados)\n",
        "\n",
        "primeros_generos = [lista_gustos[0] for lista_gustos in gustos.values()]\n",
        "\n",
        "conteo_generos = {}\n",
        "for genero in primeros_generos:\n",
        "    if genero in conteo_generos:\n",
        "        conteo_generos[genero] += 1\n",
        "    else:\n",
        "        conteo_generos[genero] = 1\n",
        "\n",
        "genero_mas_comun = max(conteo_generos, key=conteo_generos.get)\n",
        "\n",
        "print(\"Género que aparece mas que todos en la primera posición es  :\",genero_mas_comun)"
      ],
      "metadata": {
        "colab": {
          "base_uri": "https://localhost:8080/"
        },
        "id": "l-mNZNad5fVp",
        "outputId": "d8f33183-bce4-4345-c274-00d977496836"
      },
      "execution_count": 54,
      "outputs": [
        {
          "output_type": "stream",
          "name": "stdout",
          "text": [
            "{'ana': 'Sci-Fi', 'luis': 'Comedia', 'pedro': 'Drama'}\n",
            "{'Drama', 'Documental', 'Romance', 'Sci-Fi', 'Acción', 'Comedia'}\n",
            "Género que aparece mas que todos en la primera posición es  : Sci-Fi\n"
          ]
        }
      ]
    },
    {
      "cell_type": "code",
      "source": [
        "#09 Resumen de votos por serie (Diccionario+listas)\n",
        "\n",
        "votos=[(\"Breaking Python\", 5), (\"AI Rebellion\", 4), (\"Breaking Python\", 4), (\"Debug Wars\", 3), (\"AI Rebellion\", 5)]\n",
        "\n",
        "series_votos={}\n",
        "\n",
        "for serie, puntaje in votos:\n",
        "  if serie not in series_votos:\n",
        "    series_votos[serie]=[]\n",
        "  series_votos[serie].append(puntaje)\n",
        "\n",
        "print(\"VOTOS POR SERIE  :\",series_votos)\n",
        "\n",
        "promedios_votos={}\n",
        "for serie, puntajes in series_votos.items():\n",
        "  promedio=sum(puntajes)/len(puntajes)\n",
        "  promedios_votos[serie]=promedio\n",
        "\n",
        "print(\"PROMEDIO DE VOTOS POR SERIE  :\",promedios_votos)\n"
      ],
      "metadata": {
        "colab": {
          "base_uri": "https://localhost:8080/"
        },
        "id": "8WyVgDaCyzVw",
        "outputId": "b9f1dce0-d5a1-40d4-de23-69b22dd94521"
      },
      "execution_count": 33,
      "outputs": [
        {
          "output_type": "stream",
          "name": "stdout",
          "text": [
            "VOTOS POR SERIE  : {'Breaking Python': [5, 4], 'AI Rebellion': [4, 5], 'Debug Wars': [3]}\n",
            "PROMEDIO DE VOTOS POR SERIE  : {'Breaking Python': 4.5, 'AI Rebellion': 4.5, 'Debug Wars': 3.0}\n"
          ]
        }
      ]
    },
    {
      "cell_type": "code",
      "source": [
        "#10 Motor básico de recomendaciones (Integrador)\n",
        "\n",
        "def recomendar_series(user,historial,catalogo):\n",
        "  series_no_vistas=[serie for serie in catalogo if serie not in historial]\n",
        "  return series_no_vistas\n",
        "\n",
        "\n",
        "user=\"EDUARDO\"\n",
        "historial={\"TRUE DETECTIVE\":10,\"FRIENDS\":7,\"MADMEN\":9,\"COMUNITY\":5}\n",
        "catalogo=[\"TRUE DETECTIVE\",\"HOLLIDAY IN CAMBODIA\",\"THE SOPRANOS\",\"FRIENDS\",\"FAMILY GUY\"]\n",
        "\n",
        "recomendaciones=recomendar_series(user,historial,catalogo)\n",
        "print(\"LAS SERIES RECOMENDADAS PARA \",user+\"  SON:\",recomendaciones)"
      ],
      "metadata": {
        "colab": {
          "base_uri": "https://localhost:8080/"
        },
        "id": "3Ioux4830ufB",
        "outputId": "01d94b25-5dcb-4d66-9e2b-457d1c8a8425"
      },
      "execution_count": 49,
      "outputs": [
        {
          "output_type": "stream",
          "name": "stdout",
          "text": [
            "LAS SERIES RECOMENDADAS PARA  EDUARDO  SON: ['HOLLIDAY IN CAMBODIA', 'THE SOPRANOS', 'FAMILY GUY']\n"
          ]
        }
      ]
    }
  ]
}