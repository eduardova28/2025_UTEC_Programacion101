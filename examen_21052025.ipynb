{
  "nbformat": 4,
  "nbformat_minor": 0,
  "metadata": {
    "colab": {
      "provenance": [],
      "name": "examen_21052025.ipynb",
      "authorship_tag": "ABX9TyM+7f+cHWAc3yzlZ3JFdw8r",
      "include_colab_link": true
    },
    "kernelspec": {
      "name": "python3",
      "display_name": "Python 3"
    },
    "language_info": {
      "name": "python"
    }
  },
  "cells": [
    {
      "cell_type": "markdown",
      "metadata": {
        "id": "view-in-github",
        "colab_type": "text"
      },
      "source": [
        "<a href=\"https://colab.research.google.com/github/eduardova28/2025_UTEC_Programacion101/blob/main/examen_21052025.ipynb\" target=\"_parent\"><img src=\"https://colab.research.google.com/assets/colab-badge.svg\" alt=\"Open In Colab\"/></a>"
      ]
    },
    {
      "cell_type": "code",
      "execution_count": 21,
      "metadata": {
        "colab": {
          "base_uri": "https://localhost:8080/"
        },
        "id": "on_1W03nQN6N",
        "outputId": "833b125e-c17c-4a04-c6ee-8b6f13994a12"
      },
      "outputs": [
        {
          "output_type": "stream",
          "name": "stdout",
          "text": [
            "['Breaking Python', 'Data Science 101', 'Machine Love', 'Debug Wars']\n",
            "['Breaking Python', 'Data Science 101', 'Machine Love', 'Debug Wars', 'Neural Networks']\n",
            "['Breaking Python', 'Data Science 101', 'Machine Love', 'AI Rebellion', 'Neural Networks']\n",
            "['AI Rebellion', 'Breaking Python', 'Data Science 101', 'Machine Love', 'Neural Networks']\n"
          ]
        }
      ],
      "source": [
        "#01 CATALOGO DE CONTENIDO\n",
        "\n",
        "catalogo_popular = (\"Breaking Python\", \"Data Science 101\", \"Machine Love\", \"Debug Wars\")\n",
        "\n",
        "## tupla a lista\n",
        "catalogo_popular_lista=list(catalogo_popular)\n",
        "print(catalogo_popular_lista)\n",
        "catalogo_popular_lista.append(\"Neural Networks\")\n",
        "\n",
        "print(catalogo_popular_lista)\n",
        "\n",
        "indice = catalogo_popular_lista.index(\"Debug Wars\")\n",
        "catalogo_popular_lista[indice] = \"AI Rebellion\"\n",
        "print(catalogo_popular_lista)\n",
        "\n",
        "catalogo_popular_lista.sort()\n",
        "print(catalogo_popular_lista)"
      ]
    },
    {
      "cell_type": "code",
      "source": [],
      "metadata": {
        "id": "dmtb_-ertpPo"
      },
      "execution_count": null,
      "outputs": []
    },
    {
      "cell_type": "code",
      "source": [],
      "metadata": {
        "id": "2SBbU1levbIQ"
      },
      "execution_count": null,
      "outputs": []
    },
    {
      "cell_type": "code",
      "source": [
        "#04 HISTORIAL DE VISUALIZACIONES (DICCIONARIOS)\n",
        "\n",
        "historial = {\n",
        "  \"Breaking Python\": 3,\n",
        "  \"Machine Love\": 5,\n",
        "  \"Data Science 101\": 2\n",
        "}\n",
        "\n",
        "\n",
        "historial[\"Data Science 101\"]+=1\n",
        "print(historial)\n",
        "historial[\"AI_Rebellion\"]=1\n",
        "print(historial)\n",
        "del historial[\"Machine Love\"]\n",
        "print(historial)\n",
        "\n",
        "series_vistas = [serie for serie, vistas in historial.items() if vistas>2]\n",
        "print(\"Series con mas de 2 vistas\",series_vistas)\n",
        "\n"
      ],
      "metadata": {
        "colab": {
          "base_uri": "https://localhost:8080/"
        },
        "id": "UMXqmpBQvfFv",
        "outputId": "0110dcd3-f358-431d-8978-012cbe7e8512"
      },
      "execution_count": 24,
      "outputs": [
        {
          "output_type": "stream",
          "name": "stdout",
          "text": [
            "{'Breaking Python': 3, 'Machine Love': 5, 'Data Science 101': 3}\n",
            "{'Breaking Python': 3, 'Machine Love': 5, 'Data Science 101': 3, 'AI_Rebellion': 1}\n",
            "{'Breaking Python': 3, 'Data Science 101': 3, 'AI_Rebellion': 1}\n",
            "Series con mas de 2 vistas ['Breaking Python', 'Data Science 101']\n"
          ]
        }
      ]
    },
    {
      "cell_type": "code",
      "source": [
        "#05 USUARIOS UNICOS POR SERIE (SETS)\n",
        "\n",
        "usuarios_serie_A = {\"ana\", \"luis\", \"pedro\", \"maria\"}\n",
        "usuarios_serie_B = {\"maria\", \"pedro\", \"carla\", \"lucas\"}\n",
        "\n",
        "usuario_ambas_series=usuarios_serie_A.intersection(usuarios_serie_B)\n",
        "print(\"Usuarios en ambas series\",usuario_ambas_series)\n",
        "\n",
        "usuarios_solo_serie_A=usuarios_serie_A.difference(usuarios_serie_B)\n",
        "print(\"Usuarios solo en serie A\",usuarios_solo_serie_A)\n",
        "\n",
        "usuarios_unicos=usuarios_serie_A.union(usuarios_serie_B)\n",
        "print(\"Usuarios unicos\",usuarios_unicos)"
      ],
      "metadata": {
        "colab": {
          "base_uri": "https://localhost:8080/"
        },
        "id": "hp0PnxjWwo3i",
        "outputId": "6e27de4a-10e4-41f1-b8b1-999c3edf4bf1"
      },
      "execution_count": 27,
      "outputs": [
        {
          "output_type": "stream",
          "name": "stdout",
          "text": [
            "Usuarios en ambas series {'maria', 'pedro'}\n",
            "Usuarios solo en serie A {'luis', 'ana'}\n",
            "Usuarios unicos {'lucas', 'maria', 'luis', 'carla', 'ana', 'pedro'}\n"
          ]
        }
      ]
    },
    {
      "cell_type": "code",
      "source": [
        "#07 Transformar ratings (Tuplas + comprensión de diccionario)\n",
        "\n",
        "puntuaciones=[(\"Breaking Python\", 4.0), (\"AI Rebellion\", 5.0), (\"Debug Wars\",2.0)]\n",
        "\n",
        "calificacion_serie={}\n",
        "\n",
        "for serie, rating in puntuaciones:\n",
        "  if rating>=4.5:\n",
        "    calificacion_serie[serie]=\"Excelente\"\n",
        "  elif 3<=rating<4.5:\n",
        "    calificacion_serie[serie]=\"Buena\"\n",
        "  else:\n",
        "    calificacion_serie[serie]=\"Regular\"\n",
        "\n",
        "print(calificacion_serie)"
      ],
      "metadata": {
        "colab": {
          "base_uri": "https://localhost:8080/"
        },
        "id": "TMHVvSq3xQmQ",
        "outputId": "70d6f365-985a-4f7e-e464-6308c76fdf68"
      },
      "execution_count": 31,
      "outputs": [
        {
          "output_type": "stream",
          "name": "stdout",
          "text": [
            "{'Breaking Python': 'Buena', 'AI Rebellion': 'Excelente', 'Debug Wars': 'Regular'}\n"
          ]
        }
      ]
    },
    {
      "cell_type": "code",
      "source": [
        "#09 Resumen de votos por serie (Diccionario+listas)\n",
        "\n",
        "votos=[(\"Breaking Python\", 5), (\"AI Rebellion\", 4), (\"Breaking Python\", 4), (\"Debug Wars\", 3), (\"AI Rebellion\", 5)]\n",
        "\n",
        "series"
      ],
      "metadata": {
        "id": "8WyVgDaCyzVw"
      },
      "execution_count": null,
      "outputs": []
    }
  ]
}