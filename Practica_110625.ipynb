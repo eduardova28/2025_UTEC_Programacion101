{
  "nbformat": 4,
  "nbformat_minor": 0,
  "metadata": {
    "colab": {
      "provenance": [],
      "authorship_tag": "ABX9TyP1F6IUVWqZyPJCpZEWL6gS",
      "include_colab_link": true
    },
    "kernelspec": {
      "name": "python3",
      "display_name": "Python 3"
    },
    "language_info": {
      "name": "python"
    }
  },
  "cells": [
    {
      "cell_type": "markdown",
      "metadata": {
        "id": "view-in-github",
        "colab_type": "text"
      },
      "source": [
        "<a href=\"https://colab.research.google.com/github/eduardova28/2025_UTEC_Programacion101/blob/main/Practica_110625.ipynb\" target=\"_parent\"><img src=\"https://colab.research.google.com/assets/colab-badge.svg\" alt=\"Open In Colab\"/></a>"
      ]
    },
    {
      "cell_type": "code",
      "execution_count": 27,
      "metadata": {
        "colab": {
          "base_uri": "https://localhost:8080/"
        },
        "id": "CF9-XoYHcNIg",
        "outputId": "26b67907-82bf-4a1d-b3dd-412f5c18e7b3"
      },
      "outputs": [
        {
          "output_type": "stream",
          "name": "stdout",
          "text": [
            "{'el promedio es ': 17.2, 'el min es': 12, 'el max  es': 21, 'la moda  es': 17}\n"
          ]
        }
      ],
      "source": [
        "#PREGUNTA 1 -Estadística simple\n",
        "\n",
        "def resumen_estadistico(lista):\n",
        "    # PROMEDIO\n",
        "    suma = 0\n",
        "    for valor in lista:\n",
        "        suma += valor\n",
        "    promedio = suma / len(lista)\n",
        "\n",
        "    # MIN Y MAX\n",
        "    minimo = lista[0]\n",
        "    maximo = lista[0]\n",
        "    for valor in lista:\n",
        "        if valor < minimo:\n",
        "            minimo = valor\n",
        "        if valor > maximo:\n",
        "            maximo = valor\n",
        "\n",
        "    # MODA\n",
        "    frecuencias = {}\n",
        "    for valor in lista:\n",
        "        if valor in frecuencias:\n",
        "            frecuencias[valor] += 1\n",
        "        else:\n",
        "            frecuencias[valor] = 1\n",
        "\n",
        "    moda = max(frecuencias, key=frecuencias.get)\n",
        "\n",
        "    return {\n",
        "        \"el promedio es \": promedio,\n",
        "        \"el min es\": minimo,\n",
        "        \"el max  es\": maximo,\n",
        "        \"la moda  es\": moda\n",
        "    }\n",
        "\n",
        "# Probar el código:\n",
        "valores = [12, 17, 15, 21, 17, 18, 15, 19, 21, 17]\n",
        "resultado = resumen_estadistico(valores)\n",
        "print(resultado)"
      ]
    },
    {
      "cell_type": "code",
      "source": [
        "#Pregunta 2 – Limpieza de texto\n",
        "def normalizar_nombres(lista):\n",
        "    nombres_normalizados = []\n",
        "    for nombre in lista:\n",
        "        nombre_limpio = nombre.strip().title()\n",
        "        nombres_normalizados.append(nombre_limpio)\n",
        "\n",
        "    return nombres_normalizados\n",
        "\n",
        "# Probar el código:\n",
        "nombres = [\" ana \", \"LUIS\", \"cAmila \", \"JORGE\", \" sofiA\"]\n",
        "nombres_limpios = normalizar_nombres(nombres)\n",
        "print(\"los nombres después del código de limpieza de texto son :\",nombres_limpios)\n",
        "\n"
      ],
      "metadata": {
        "colab": {
          "base_uri": "https://localhost:8080/"
        },
        "id": "c_ELFP5-ewIk",
        "outputId": "e7b763eb-6f7e-4a77-d912-ff9319fa8ee8"
      },
      "execution_count": 69,
      "outputs": [
        {
          "output_type": "stream",
          "name": "stdout",
          "text": [
            "los nombres después del código de limpieza de texto son : ['Ana', 'Luis', 'Camila', 'Jorge', 'Sofia']\n"
          ]
        }
      ]
    },
    {
      "cell_type": "code",
      "source": [
        "#Pregunta 3 – Clasificador por edad\n",
        "class ClasificadorEdad:\n",
        "    def __init__(self, edad):\n",
        "        self.edad = edad\n",
        "\n",
        "    def clasificar(self) -> str:\n",
        "        if self.edad < 13:\n",
        "            return \"Niño\"\n",
        "        elif 13 <= self.edad <= 17:\n",
        "            return \"Adolescente\"\n",
        "        elif 18 <= self.edad <= 59:\n",
        "            return \"Adulto\"\n",
        "        else:  # edad >= 60\n",
        "            return \"Adulto mayor\"\n",
        "\n",
        "#prueba de funcionamiento de código:\n",
        "persona1 = ClasificadorEdad(10)\n",
        "print(\"La persona es un   \",persona1.clasificar())  # Niño\n",
        "\n",
        "persona2 = ClasificadorEdad(15)\n",
        "print(\"La persona es un   \",persona2.clasificar())  # Adolescente\n",
        "\n",
        "persona3 = ClasificadorEdad(30)\n",
        "print(\"La persona es un   \",persona3.clasificar())  # Adulto\n",
        "\n",
        "persona4 = ClasificadorEdad(65)\n",
        "print(\"La persona es un   \",persona4.clasificar())  # Adulto mayor\n"
      ],
      "metadata": {
        "colab": {
          "base_uri": "https://localhost:8080/"
        },
        "id": "_n18VZ60e-LB",
        "outputId": "cc17160f-58de-47ce-fe21-e0e3be187fb2"
      },
      "execution_count": 14,
      "outputs": [
        {
          "output_type": "stream",
          "name": "stdout",
          "text": [
            "La persona es un    Niño\n",
            "La persona es un    Adolescente\n",
            "La persona es un    Adulto\n",
            "La persona es un    Adulto mayor\n"
          ]
        }
      ]
    },
    {
      "cell_type": "code",
      "source": [
        "#Pregunta 4 – Palabras clave en encuestas**\n",
        "\n",
        "def contar_palabras_clave(respuestas: list, palabra: str) -> int:\n",
        "    palabra = palabra.lower()\n",
        "    contador = 0\n",
        "    for frase in respuestas:\n",
        "        if palabra in frase.lower():\n",
        "            contador += 1\n",
        "    return contador\n",
        "\n",
        "respuestas = [\n",
        "    \"Me gusta la visualización de datos\",\n",
        "    \"La estadística es clave\",\n",
        "    \"Aprender programación mejora la productividad\",\n",
        "    \"Los gráficos me ayudan a entender\"\n",
        "]\n",
        "\n",
        "# PRUEBA DE FUNCIONAMIENTO DEL CÓDIGO:\n",
        "print(\"las veces que se repite la palabra -datos- es  :\",(contar_palabras_clave(respuestas, \"datos\")))\n",
        "print(\"las veces que se repite la palabra -la- es  :\",contar_palabras_clave(respuestas, \"la\"))\n",
        "\n"
      ],
      "metadata": {
        "colab": {
          "base_uri": "https://localhost:8080/"
        },
        "id": "UxGW3ZEffdHF",
        "outputId": "3d9c2564-ff6c-434f-cef4-794d4d096029"
      },
      "execution_count": 71,
      "outputs": [
        {
          "output_type": "stream",
          "name": "stdout",
          "text": [
            "las veces que se repite la palabra -datos- es  : 1\n",
            "las veces que se repite la palabra -la- es  : 3\n"
          ]
        }
      ]
    },
    {
      "cell_type": "code",
      "source": [
        "#Pregunta 5 – Validación de códigos de experimento\n",
        "\n",
        "def validar_codigos(lista):\n",
        "    codigos_validos = []\n",
        "    for codigo in lista:\n",
        "        if codigo.startswith(\"EXP\") and len(codigo) == 8:\n",
        "            codigos_validos.append(codigo)\n",
        "    return codigos_validos\n",
        "\n",
        "codigos = [\"EXP2023A\", \"EXP_23\", \"EXPERIMENTO_2023\", \"exp2023b\"]\n",
        "\n",
        "# Prueba del código:\n",
        "print(\"EL CÓDIGO VÁLIDO SEGUN REQUERIMIENTO ES :\",validar_codigos(codigos))  # Resultado esperado: ['EXP2023A']\n"
      ],
      "metadata": {
        "colab": {
          "base_uri": "https://localhost:8080/"
        },
        "id": "tCl8amdpikTO",
        "outputId": "78a9f28d-d890-48db-d427-8fd26156028b"
      },
      "execution_count": 35,
      "outputs": [
        {
          "output_type": "stream",
          "name": "stdout",
          "text": [
            "EL CÓDIGO VÁLIDO SEGUN REQUERIMIENTO ES : ['EXP2023A']\n"
          ]
        }
      ]
    },
    {
      "cell_type": "code",
      "source": [
        "#PREGUNTA 6: Modelo lineal simple\n",
        "class ModeloLineal:\n",
        "    def __init__(self, m, b):\n",
        "        self.m = m  # pendiente\n",
        "        self.b = b  # intercepto\n",
        "\n",
        "    def predecir(self, x):\n",
        "        if type(x) == int or type(x) == float:\n",
        "            return self.m * x + self.b\n",
        "        elif type(x) == list:\n",
        "            return [self.m * valor + self.b for valor in x]\n",
        "        else:\n",
        "            return 0\n",
        "\n",
        "# Prueba de código\n",
        "modelo = ModeloLineal(2, 3)\n",
        "\n",
        "entrada = input(\"Introduce una lista de números separados por comas: \")\n",
        "lista_numeros = [float(num.strip()) for num in entrada.split(',')]\n",
        "resultado = modelo.predecir(lista_numeros)\n",
        "print(\"El resultado de la función de modelo lineal simple es :\", resultado)\n"
      ],
      "metadata": {
        "colab": {
          "base_uri": "https://localhost:8080/"
        },
        "id": "hmLWG7vhiuNj",
        "outputId": "f9b6ce3d-3a7e-4568-89da-b1ccdc8a2f3b"
      },
      "execution_count": 67,
      "outputs": [
        {
          "output_type": "stream",
          "name": "stdout",
          "text": [
            "Introduce una lista de números separados por comas: 1,5,10\n",
            "El resultado de la función de modelo lineal simple es : [5.0, 13.0, 23.0]\n"
          ]
        }
      ]
    }
  ]
}