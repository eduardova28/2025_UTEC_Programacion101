{
  "nbformat": 4,
  "nbformat_minor": 0,
  "metadata": {
    "colab": {
      "provenance": [],
      "authorship_tag": "ABX9TyOglmLv06z7J/19Zwx8JNJk",
      "include_colab_link": true
    },
    "kernelspec": {
      "name": "python3",
      "display_name": "Python 3"
    },
    "language_info": {
      "name": "python"
    }
  },
  "cells": [
    {
      "cell_type": "markdown",
      "metadata": {
        "id": "view-in-github",
        "colab_type": "text"
      },
      "source": [
        "<a href=\"https://colab.research.google.com/github/eduardova28/2025_UTEC_Programacion101/blob/main/Clase_parte_II_07052025_Listas.ipynb\" target=\"_parent\"><img src=\"https://colab.research.google.com/assets/colab-badge.svg\" alt=\"Open In Colab\"/></a>"
      ]
    },
    {
      "cell_type": "code",
      "execution_count": 1,
      "metadata": {
        "colab": {
          "base_uri": "https://localhost:8080/"
        },
        "id": "VwoVoypWoMMX",
        "outputId": "1571948f-e551-469b-d35f-db47e2ab0ed6"
      },
      "outputs": [
        {
          "output_type": "stream",
          "name": "stdout",
          "text": [
            "Ingrese pedidos a su carrito de compras: (escriba salir para terminar)a\n",
            "Ingrese pedidos a su carrito de compras: (escriba salir para terminar)b\n",
            "Ingrese pedidos a su carrito de compras: (escriba salir para terminar)\n",
            "Ingrese pedidos a su carrito de compras: (escriba salir para terminar)salir\n",
            "Procesando pedido de \n",
            "Procesando pedido de b\n",
            "Procesando pedido de a\n",
            "Su carrito de compras ha sido ordenado!!\n"
          ]
        }
      ],
      "source": [
        "#crea programa que reciba una lista de compras hasta que el usuario decida que esta listo,luego una orden de procesamiento por cada pedido y que elimine paultainamente cada uno del carrito\n",
        "\n",
        "### Define initial shopping list\n",
        "shopping_list = []\n",
        "\n",
        "### Receive items for shopping list\n",
        "while True:\n",
        "  item = input('Ingrese pedidos a su carrito de compras: (escriba salir para terminar)').strip().lower()\n",
        "  if item == 'salir':\n",
        "    break\n",
        "  else:\n",
        "    shopping_list.append(item)\n",
        "\n",
        "shopping_order = shopping_list.copy()\n",
        "### Process items and empty shopping list\n",
        "while len(shopping_list) > 0:\n",
        "    item = shopping_list.pop()\n",
        "    print(f'Procesando pedido de {item}')\n",
        "\n",
        "print('Su carrito de compras ha sido ordenado!!')c"
      ]
    },
    {
      "cell_type": "code",
      "source": [
        "#POP ELIMINA EL ULTIMO ELEMENTO\n",
        "students=[\"edu\",\"fiorela\",\"sofi\",\"titi\"]\n",
        "while len(students)>0:\n",
        "  student= students.pop()\n",
        "  print(students)"
      ],
      "metadata": {
        "colab": {
          "base_uri": "https://localhost:8080/"
        },
        "id": "xd7Du67noRvZ",
        "outputId": "6d19aa48-1711-4d7f-b7b9-0bf403e15d64"
      },
      "execution_count": 2,
      "outputs": [
        {
          "output_type": "stream",
          "name": "stdout",
          "text": [
            "['edu', 'fiorela', 'sofi']\n",
            "['edu', 'fiorela']\n",
            "['edu']\n",
            "[]\n"
          ]
        }
      ]
    }
  ]
}