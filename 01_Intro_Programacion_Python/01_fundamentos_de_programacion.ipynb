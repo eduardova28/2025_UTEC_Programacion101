{
  "nbformat": 4,
  "nbformat_minor": 0,
  "metadata": {
    "colab": {
      "provenance": [],
      "authorship_tag": "ABX9TyO7G4toKt2vWQbnkzH7Nifc",
      "include_colab_link": true
    },
    "kernelspec": {
      "name": "python3",
      "display_name": "Python 3"
    },
    "language_info": {
      "name": "python"
    }
  },
  "cells": [
    {
      "cell_type": "markdown",
      "metadata": {
        "id": "view-in-github",
        "colab_type": "text"
      },
      "source": [
        "<a href=\"https://colab.research.google.com/github/eduardova28/2025_UTEC_Programacion101/blob/main/01_Intro_Programacion_Python/01_fundamentos_de_programacion.ipynb\" target=\"_parent\"><img src=\"https://colab.research.google.com/assets/colab-badge.svg\" alt=\"Open In Colab\"/></a>"
      ]
    },
    {
      "cell_type": "code",
      "execution_count": 24,
      "metadata": {
        "id": "Cp-b-y-YnskJ",
        "outputId": "03830f48-c2ea-42ea-f5a1-28a7d36d422d",
        "colab": {
          "base_uri": "https://localhost:8080/"
        }
      },
      "outputs": [
        {
          "output_type": "stream",
          "name": "stdout",
          "text": [
            "INGRESA BASE\n",
            "4\n",
            "INGRESA ALTURA\n",
            "3\n",
            "EL AREA DEL RECTANGULO ES     12.0\n",
            "Y TU IMC ES     26.812218711098343\n",
            "O sea estas gordo CTM\n",
            "Eduardo Vergaray\n"
          ]
        }
      ],
      "source": [
        "#EJERCICIO 04\n",
        "#CALCULAR AREA DE UN RECTANGULO\n",
        "\n",
        "def calcularArearectangulo(a,b):\n",
        "    area=(a*b)\n",
        "    return area\n",
        "print(\"INGRESA BASE\")\n",
        "a=float(input())\n",
        "print(\"INGRESA ALTURA\")\n",
        "b=float(input())\n",
        "print(\"EL AREA DEL RECTANGULO ES     \" + \"\" +str(calcularArearectangulo(a,b)))\n",
        "\n",
        "#EJERCICIO 05\n",
        "#CALCULAR SI ESTAS GORDO CTV\n",
        "\n",
        "def IMC(altura,weight):\n",
        "  calculoIMC=(weight/altura**2)\n",
        "  return calculoIMC\n",
        "altura=1.77\n",
        "weight=84\n",
        "print(\"Y TU IMC ES     \" + str(IMC(altura,weight)))\n",
        "\n",
        "if(IMC(altura,weight))>25:\n",
        "  print(\"O sea estas gordo CTM\")\n",
        "else:\n",
        "  print(\"no estas gordo\")\n",
        "\n",
        "#title\n",
        "name=\"eduardo vergaray\"\n",
        "print(name.title())\n",
        "\n",
        "\n"
      ]
    }
  ]
}