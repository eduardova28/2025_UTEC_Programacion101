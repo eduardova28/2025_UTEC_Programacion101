{
  "nbformat": 4,
  "nbformat_minor": 0,
  "metadata": {
    "colab": {
      "provenance": [],
      "authorship_tag": "ABX9TyO6Fsj8SGDa268/R1ucwOau",
      "include_colab_link": true
    },
    "kernelspec": {
      "name": "python3",
      "display_name": "Python 3"
    },
    "language_info": {
      "name": "python"
    }
  },
  "cells": [
    {
      "cell_type": "markdown",
      "metadata": {
        "id": "view-in-github",
        "colab_type": "text"
      },
      "source": [
        "<a href=\"https://colab.research.google.com/github/eduardova28/2025_UTEC_Programacion101/blob/main/01_Intro_Programacion_Python/01_fundamentos_de_programacion.ipynb\" target=\"_parent\"><img src=\"https://colab.research.google.com/assets/colab-badge.svg\" alt=\"Open In Colab\"/></a>"
      ]
    },
    {
      "cell_type": "code",
      "execution_count": 2,
      "metadata": {
        "id": "Cp-b-y-YnskJ",
        "outputId": "068e5dd1-d386-4b69-b42a-9226a2df32c2",
        "colab": {
          "base_uri": "https://localhost:8080/"
        }
      },
      "outputs": [
        {
          "output_type": "stream",
          "name": "stdout",
          "text": [
            "INGRESA BASE\n",
            "5\n",
            "INGRESA ALTURA\n",
            "4\n",
            "EL AREA DEL RECTANGULO ES20.0\n",
            "HOLA A TODOS\n"
          ]
        }
      ],
      "source": [
        "#EJERCICIO 04\n",
        "#CALCULAR AREA DE UN RECTANGULO\n",
        "def calcularArearectangulo(a,b):\n",
        "    area=(a*b)\n",
        "    return area\n",
        "print(\"INGRESA BASE\")\n",
        "a=float(input())\n",
        "print(\"INGRESA ALTURA\")\n",
        "b=float(input())\n",
        "print(\"EL AREA DEL RECTANGULO ES\" + \"\" +str(calcularArearectangulo(a,b)))\n",
        "print (\"HOLA A TODOS\")\n"
      ]
    }
  ]
}