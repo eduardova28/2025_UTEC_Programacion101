{
  "nbformat": 4,
  "nbformat_minor": 0,
  "metadata": {
    "colab": {
      "provenance": [],
      "toc_visible": true,
      "authorship_tag": "ABX9TyO+BBJ5Aeo0fbuSJDZuMGad",
      "include_colab_link": true
    },
    "kernelspec": {
      "name": "python3",
      "display_name": "Python 3"
    },
    "language_info": {
      "name": "python"
    }
  },
  "cells": [
    {
      "cell_type": "markdown",
      "metadata": {
        "id": "view-in-github",
        "colab_type": "text"
      },
      "source": [
        "<a href=\"https://colab.research.google.com/github/eduardova28/2025_UTEC_Programacion101/blob/main/01_Intro_Programacion_Python/01_fundamentos_de_programacion.ipynb\" target=\"_parent\"><img src=\"https://colab.research.google.com/assets/colab-badge.svg\" alt=\"Open In Colab\"/></a>"
      ]
    },
    {
      "cell_type": "code",
      "execution_count": null,
      "metadata": {
        "id": "Cp-b-y-YnskJ",
        "outputId": "209f0538-05ee-4af5-f842-e5f61fb23b99",
        "colab": {
          "base_uri": "https://localhost:8080/"
        }
      },
      "outputs": [
        {
          "output_type": "stream",
          "name": "stdout",
          "text": [
            "Y TU IMC ES     26.812218711098343\n",
            "O sea estas gordo CTM\n",
            "Eduardo Vergaray\n",
            "EDUARDO VERGARAY\n",
            "Hola   Eduardo Vergaray\n",
            "holaholaholaholaholaholaholaholaholahola\n",
            "16\n"
          ]
        }
      ],
      "source": [
        "#EJERCICIO 05\n",
        "#CALCULAR SI ESTAS GORDO CTV\n",
        "\n",
        "def IMC(altura,weight):\n",
        "  calculoIMC=(weight/altura**2)\n",
        "  return calculoIMC\n",
        "altura=1.77\n",
        "weight=84\n",
        "print(\"Y TU IMC ES     \" + str(IMC(altura,weight)))\n",
        "\n",
        "if(IMC(altura,weight))>25:\n",
        "  print(\"O sea estas gordo CTM\")\n",
        "else:\n",
        "  print(\"no estas gordo\")\n",
        "\n",
        "#title\n",
        "name=\"eduardo vergaray\"\n",
        "print(name.title())\n",
        "print(name.upper())\n",
        "print (\"Hola\" + \"   \" + name.title())\n",
        "\"hola\"*4\n",
        "print(\"hola\"*10)\n",
        "print(len(name    ))\n",
        "\n",
        "\n",
        "\n",
        "\n"
      ]
    },
    {
      "cell_type": "code",
      "source": [
        "f\"HOLA {name}, bienvenido al curso\""
      ],
      "metadata": {
        "id": "Kn_2EiEjROwg",
        "outputId": "4a8b6595-d676-4749-c84f-7cc916b821d0",
        "colab": {
          "base_uri": "https://localhost:8080/",
          "height": 35
        }
      },
      "execution_count": null,
      "outputs": [
        {
          "output_type": "execute_result",
          "data": {
            "text/plain": [
              "'HOLA eduardo vergaray, bienvenido al curso'"
            ],
            "application/vnd.google.colaboratory.intrinsic+json": {
              "type": "string"
            }
          },
          "metadata": {},
          "execution_count": 34
        }
      ]
    },
    {
      "cell_type": "code",
      "source": [
        "f\"HOLA {name.upper()}, bienvenido al curso\""
      ],
      "metadata": {
        "id": "VPU5guBxRl6O",
        "outputId": "db3b0a50-d771-4e8a-8c2c-62348c6a64d6",
        "colab": {
          "base_uri": "https://localhost:8080/",
          "height": 35
        }
      },
      "execution_count": null,
      "outputs": [
        {
          "output_type": "execute_result",
          "data": {
            "text/plain": [
              "'HOLA EDUARDO VERGARAY, bienvenido al curso'"
            ],
            "application/vnd.google.colaboratory.intrinsic+json": {
              "type": "string"
            }
          },
          "metadata": {},
          "execution_count": 36
        }
      ]
    },
    {
      "cell_type": "code",
      "source": [
        "f\"HOLA {name.title()}, bienvenido al curso\""
      ],
      "metadata": {
        "id": "cpGdg3pxRwUU",
        "outputId": "10ea6c80-f2c5-432f-94e8-6ac9cadee4b9",
        "colab": {
          "base_uri": "https://localhost:8080/",
          "height": 35
        }
      },
      "execution_count": null,
      "outputs": [
        {
          "output_type": "execute_result",
          "data": {
            "text/plain": [
              "'HOLA Eduardo Vergaray, bienvenido al curso'"
            ],
            "application/vnd.google.colaboratory.intrinsic+json": {
              "type": "string"
            }
          },
          "metadata": {},
          "execution_count": 37
        }
      ]
    },
    {
      "cell_type": "code",
      "source": [
        "print(\"\\033[MynameisMud:\\033[0m\\n\\t\\033[94mXGBoost\\tR2: 50%\\n\\tDNN\\tR2: 60%\\033[0m\")"
      ],
      "metadata": {
        "id": "SwJYf_4ETnzw",
        "outputId": "e75c291a-877f-4f38-a5c6-248a8d82155c",
        "colab": {
          "base_uri": "https://localhost:8080/"
        }
      },
      "execution_count": null,
      "outputs": [
        {
          "output_type": "stream",
          "name": "stdout",
          "text": [
            "\u001b[MynameisMud:\u001b[0m\n",
            "\t\u001b[94mXGBoost\tR2: 50%\n",
            "\tDNN\tR2: 60%\u001b[0m\n"
          ]
        }
      ]
    },
    {
      "cell_type": "code",
      "source": [
        "print(len(name.strip()))\n"
      ],
      "metadata": {
        "id": "nPpSH3pFVQ-r",
        "outputId": "a4b05925-8082-4125-c0f4-daa2bc379f9c",
        "colab": {
          "base_uri": "https://localhost:8080/"
        }
      },
      "execution_count": null,
      "outputs": [
        {
          "output_type": "stream",
          "name": "stdout",
          "text": [
            "16\n"
          ]
        }
      ]
    },
    {
      "cell_type": "code",
      "source": [
        "#removeprefix\n",
        "feature=\"sunat_ventas_historial\"\n",
        "print(feature.removeprefix(\"sunat_\"))"
      ],
      "metadata": {
        "id": "SPGfH6rmVcf5",
        "outputId": "8e48e1bc-3ebd-4e5b-ef37-5fe65fa211e2",
        "colab": {
          "base_uri": "https://localhost:8080/"
        }
      },
      "execution_count": null,
      "outputs": [
        {
          "output_type": "stream",
          "name": "stdout",
          "text": [
            "ventas_historial\n"
          ]
        }
      ]
    },
    {
      "cell_type": "code",
      "source": [
        "#removesufix\n",
        "feature=\"sunat_ventas_historial\"\n",
        "print(feature.removesuffix(\"_historial\"))"
      ],
      "metadata": {
        "id": "zlE8jl_TVqvu",
        "outputId": "40422527-68ef-4e25-d3d8-3c1c9983820e",
        "colab": {
          "base_uri": "https://localhost:8080/"
        }
      },
      "execution_count": null,
      "outputs": [
        {
          "output_type": "stream",
          "name": "stdout",
          "text": [
            "sunat_ventas\n"
          ]
        }
      ]
    },
    {
      "cell_type": "code",
      "source": [
        "abs(-151515)"
      ],
      "metadata": {
        "id": "0v8QC0fpcaU7",
        "outputId": "739e5ef6-c9c0-4c05-8653-60e30a10fe61",
        "colab": {
          "base_uri": "https://localhost:8080/"
        }
      },
      "execution_count": null,
      "outputs": [
        {
          "output_type": "execute_result",
          "data": {
            "text/plain": [
              "151515"
            ]
          },
          "metadata": {},
          "execution_count": 48
        }
      ]
    },
    {
      "cell_type": "code",
      "source": [
        "#CALCULAR AREA DE UN TRIANGULO\n",
        "def AreaTriangulo(base,altura):\n",
        "  AreaT=((base*altura)/2)\n",
        "  return AreaT\n",
        "\n",
        "print(\"Ingresar area  \")\n",
        "base=float(input())\n",
        "print(\"Ingresar altura  \")\n",
        "altura=float(input())\n",
        "print(\"El area del triangulo es  \" + str(AreaTriangulo(base,altura)))\n",
        "\n",
        "\n"
      ],
      "metadata": {
        "id": "xPEDMDsUcpIh",
        "outputId": "78b231ea-68e8-4f9a-86b6-aa2639bdcec4",
        "colab": {
          "base_uri": "https://localhost:8080/"
        }
      },
      "execution_count": null,
      "outputs": [
        {
          "output_type": "stream",
          "name": "stdout",
          "text": [
            "Ingresar area  \n",
            "10\n",
            "Ingresar altura  \n",
            "4\n",
            "El area del triangulo es  20.0\n"
          ]
        }
      ]
    },
    {
      "cell_type": "code",
      "source": [
        "#OTRO METODO CALCULO 2\n",
        "base=float(input(\"ingresarbase\"))\n",
        "altura=float(input(\"ingresaraltura\"))\n",
        "Trianglearea=(base*altura)/2\n",
        "print(\"Triangle Area is\"+\"    \"+str(Trianglearea))\n",
        "\n"
      ],
      "metadata": {
        "id": "fBY2UoVSela3",
        "outputId": "50a921cc-5b2d-47aa-fde1-dade3bfd4d9e",
        "colab": {
          "base_uri": "https://localhost:8080/"
        }
      },
      "execution_count": null,
      "outputs": [
        {
          "output_type": "stream",
          "name": "stdout",
          "text": [
            "ingresarbase4\n",
            "ingresaraltura3\n",
            "Triangle Area is    6.0\n"
          ]
        }
      ]
    },
    {
      "cell_type": "code",
      "source": [
        "population=20_000_000\n",
        "print(population)\n"
      ],
      "metadata": {
        "id": "givJuOZTlrnF",
        "outputId": "11217466-57c0-48cf-f642-01a521a4c009",
        "colab": {
          "base_uri": "https://localhost:8080/"
        }
      },
      "execution_count": null,
      "outputs": [
        {
          "output_type": "stream",
          "name": "stdout",
          "text": [
            "20000000\n"
          ]
        }
      ]
    },
    {
      "cell_type": "code",
      "source": [
        "x, y, z= 1,5,10\n",
        "a,b,c=5,20,25\n",
        "print(x,y,z+ a,b,c)\n"
      ],
      "metadata": {
        "id": "2rf_Xzhel4hA",
        "outputId": "4a724b8b-5ea8-42f6-8f95-9066929fc446",
        "colab": {
          "base_uri": "https://localhost:8080/"
        }
      },
      "execution_count": null,
      "outputs": [
        {
          "output_type": "stream",
          "name": "stdout",
          "text": [
            "1 5 15 20 25\n"
          ]
        }
      ]
    },
    {
      "cell_type": "code",
      "source": [
        "1==1"
      ],
      "metadata": {
        "id": "D1vDTv7Mmuma",
        "colab": {
          "base_uri": "https://localhost:8080/"
        },
        "outputId": "01be7358-91cc-4de3-eee2-2627d4fe8443"
      },
      "execution_count": 1,
      "outputs": [
        {
          "output_type": "execute_result",
          "data": {
            "text/plain": [
              "True"
            ]
          },
          "metadata": {},
          "execution_count": 1
        }
      ]
    },
    {
      "cell_type": "code",
      "source": [
        "1==0"
      ],
      "metadata": {
        "colab": {
          "base_uri": "https://localhost:8080/"
        },
        "id": "KFJg-qm5J1Be",
        "outputId": "ec10549a-6c7d-4521-cdd7-56bfd27e432e"
      },
      "execution_count": 2,
      "outputs": [
        {
          "output_type": "execute_result",
          "data": {
            "text/plain": [
              "False"
            ]
          },
          "metadata": {},
          "execution_count": 2
        }
      ]
    },
    {
      "cell_type": "code",
      "source": [
        "\"HOLA\" == 1"
      ],
      "metadata": {
        "colab": {
          "base_uri": "https://localhost:8080/"
        },
        "id": "LUJb5elMJ7vx",
        "outputId": "7dfe32a2-5ad9-4f55-f570-2993a2c8ce8b"
      },
      "execution_count": 3,
      "outputs": [
        {
          "output_type": "execute_result",
          "data": {
            "text/plain": [
              "False"
            ]
          },
          "metadata": {},
          "execution_count": 3
        }
      ]
    },
    {
      "cell_type": "code",
      "source": [
        "input(\"INGRESE SU COMIDA FAVORITA\").lower()==\"pizza\""
      ],
      "metadata": {
        "colab": {
          "base_uri": "https://localhost:8080/"
        },
        "id": "q69Sj3f9K5E4",
        "outputId": "db961bf6-2e4d-4a39-a402-709a6f3e5299"
      },
      "execution_count": 7,
      "outputs": [
        {
          "name": "stdout",
          "output_type": "stream",
          "text": [
            "INGRESE SU COMIDA FAVORITApizzA\n"
          ]
        },
        {
          "output_type": "execute_result",
          "data": {
            "text/plain": [
              "True"
            ]
          },
          "metadata": {},
          "execution_count": 7
        }
      ]
    },
    {
      "cell_type": "code",
      "source": [
        "1!=2"
      ],
      "metadata": {
        "colab": {
          "base_uri": "https://localhost:8080/"
        },
        "id": "JOz2vEvrLSrv",
        "outputId": "10acc14b-4ba5-4ae0-ecb6-ddccf11852d8"
      },
      "execution_count": 8,
      "outputs": [
        {
          "output_type": "execute_result",
          "data": {
            "text/plain": [
              "True"
            ]
          },
          "metadata": {},
          "execution_count": 8
        }
      ]
    },
    {
      "cell_type": "code",
      "source": [
        "1!=1"
      ],
      "metadata": {
        "id": "7R-fexETMLp0",
        "outputId": "63230e5c-22c7-4bb7-b27a-6504cae1dcb5",
        "colab": {
          "base_uri": "https://localhost:8080/"
        }
      },
      "execution_count": 9,
      "outputs": [
        {
          "output_type": "execute_result",
          "data": {
            "text/plain": [
              "False"
            ]
          },
          "metadata": {},
          "execution_count": 9
        }
      ]
    },
    {
      "cell_type": "code",
      "source": [
        "if language==\"Python\":\n",
        "  print(\"estas aprendiendo a programar\")"
      ],
      "metadata": {
        "id": "cIiPOhILNGTd",
        "outputId": "5e14a214-b9fd-4548-edc0-10b362871b00",
        "colab": {
          "base_uri": "https://localhost:8080/",
          "height": 158
        }
      },
      "execution_count": 14,
      "outputs": [
        {
          "output_type": "error",
          "ename": "NameError",
          "evalue": "name 'language' is not defined",
          "traceback": [
            "\u001b[0;31m---------------------------------------------------------------------------\u001b[0m",
            "\u001b[0;31mNameError\u001b[0m                                 Traceback (most recent call last)",
            "\u001b[0;32m<ipython-input-14-4f6b9e195eae>\u001b[0m in \u001b[0;36m<cell line: 0>\u001b[0;34m()\u001b[0m\n\u001b[0;32m----> 1\u001b[0;31m \u001b[0;32mif\u001b[0m \u001b[0mlanguage\u001b[0m\u001b[0;34m==\u001b[0m\u001b[0;34m\"Python\"\u001b[0m\u001b[0;34m:\u001b[0m\u001b[0;34m\u001b[0m\u001b[0;34m\u001b[0m\u001b[0m\n\u001b[0m\u001b[1;32m      2\u001b[0m   \u001b[0mprint\u001b[0m\u001b[0;34m(\u001b[0m\u001b[0;34m\"estas aprendiendo a programar\"\u001b[0m\u001b[0;34m)\u001b[0m\u001b[0;34m\u001b[0m\u001b[0;34m\u001b[0m\u001b[0m\n",
            "\u001b[0;31mNameError\u001b[0m: name 'language' is not defined"
          ]
        }
      ]
    },
    {
      "cell_type": "markdown",
      "source": [
        "#Clase programación 101 CONDICIONALES"
      ],
      "metadata": {
        "id": "sxStImWPOKbj"
      }
    },
    {
      "cell_type": "code",
      "source": [
        "# ejercicio IF , JUGADORES DE FUTBOL\n",
        "Favourite_sport=(input(\"INGRESE DEPORTE FAVORITO\")).lower().strip()\n",
        "if(Favourite_sport)==\"futbol\":\n",
        "  favouriteplayer=input(\"INGRESE JUGADOR FAVORITO\").lower().strip()\n",
        "  if(favouriteplayer)==\"messi\":\n",
        "    print(\"Te lo agradezco\")\n",
        "print (\"programa terminado\")"
      ],
      "metadata": {
        "id": "fsipfGu-OPdV",
        "outputId": "2e883983-3a41-4d32-c1c9-d5686b1ee4fc",
        "colab": {
          "base_uri": "https://localhost:8080/"
        }
      },
      "execution_count": 24,
      "outputs": [
        {
          "output_type": "stream",
          "name": "stdout",
          "text": [
            "INGRESE DEPORTE FAVORITOfutbol\n",
            "INGRESE JUGADOR FAVORITOronaldo\n",
            "programa terminado\n"
          ]
        }
      ]
    },
    {
      "cell_type": "code",
      "source": [
        "Edad=float((input(\"Ingresa tu edad\")).lower().strip())\n",
        "licencia=(input(\"Ingresa tu licencia\")).upper().strip()\n",
        "if(Edad)>=18 and (licencia)==\"A2\":\n",
        "  print(\"eres mayor de edad\")\n",
        "else:\n",
        "  print(\"eres menor de edad\")"
      ],
      "metadata": {
        "id": "n2eUJErVXK2S",
        "outputId": "4c114587-8a63-42d6-d7bf-46baeb2c8035",
        "colab": {
          "base_uri": "https://localhost:8080/"
        }
      },
      "execution_count": 35,
      "outputs": [
        {
          "output_type": "stream",
          "name": "stdout",
          "text": [
            "Ingresa tu edad19\n",
            "Ingresa tu licenciaa2\n",
            "eres mayor de edad\n"
          ]
        }
      ]
    },
    {
      "cell_type": "code",
      "source": [
        "#PARA APROBAR LA MAESTRIA DE UTEC se necesita aprobar por lo menos en 3 de 4 cursos con nota mayor 18.\n",
        "#CALCULE UN PROGRAMA SI UN ALUMNO APROBO O NO\n",
        "#NOTA: LOS CURSOS SON, PROGRAMACIÓN, CIENCIA DE DATOS, ESTADISTICA Y MUESTREO\n",
        "\n",
        "programación=float(input(\"ingrese nota programación\"))\n",
        "ciencia_de_datos=float(input(\"ingrese nota ciencia de datos\"))\n",
        "estadistica=float(input(\"ingrese nota estadistica\"))\n",
        "muestreo=float(input(\"ingrese nota muestreo\"))\n",
        "\n",
        "if(programación>18):\n",
        "  print(\"aprobó programación\")\n",
        "if(ciencia_de_datos>18):\n",
        "  print(\"aprobó ciencia de datos\")\n",
        "if(estadistica>18):\n",
        "  print(\"aprobó estadistica\")\n",
        "if(muestreo>18):\n",
        "  print(\"aprobó muestreo\")\n",
        "\n",
        "condition_1=programación>18\n",
        "condition_2=ciencia_de_datos>18\n",
        "condition_3=estadistica>18\n",
        "condition_4=muestreo>18\n",
        "\n",
        "if(condition_1+condition_2+condition_3+condition_4)>=3:\n",
        "  print(\"APROBO LA MAESTRIA\")\n",
        "else:\n",
        "  print(\"NO APROBO LA MAESTRIA\")\n"
      ],
      "metadata": {
        "id": "4UbSg4ODYtgf",
        "outputId": "780f00e7-6df1-4521-bbcf-8006b70781eb",
        "colab": {
          "base_uri": "https://localhost:8080/"
        }
      },
      "execution_count": 44,
      "outputs": [
        {
          "output_type": "stream",
          "name": "stdout",
          "text": [
            "ingrese nota programación19\n",
            "ingrese nota ciencia de datos19\n",
            "ingrese nota estadistica19\n",
            "ingrese nota muestreo19\n",
            "aprobó programación\n",
            "aprobó ciencia de datos\n",
            "aprobó estadistica\n",
            "aprobó muestreo\n",
            "APROBO LA MAESTRIA\n"
          ]
        }
      ]
    },
    {
      "cell_type": "code",
      "source": [
        "adultos=[\"luis\",\"maria\",\"juan\"]\n",
        "if \"luis\" in adultos:\n",
        "  print(\"luis esta en la lista\")\n",
        "else:\n",
        "  print(\"luis no esta en la lista\")\n",
        ""
      ],
      "metadata": {
        "id": "W-ya3Gp1g6Ae",
        "outputId": "4812a00a-4367-4986-845d-1d68ce6b9861",
        "colab": {
          "base_uri": "https://localhost:8080/"
        }
      },
      "execution_count": 45,
      "outputs": [
        {
          "output_type": "stream",
          "name": "stdout",
          "text": [
            "luis esta en la lista\n"
          ]
        }
      ]
    },
    {
      "cell_type": "code",
      "source": [
        "#simular una validación de edad para entrar a una pelicula para mayores de edad. Muestra si puede o no ingresar\n",
        "Edad=(float(input(\"Ingrese su edad    \")))\n",
        "if (Edad<0) or (Edad>110):\n",
        "  print(\"edad no valida\")\n",
        "elif Edad>17:\n",
        "  print(\"puede ingresar a ver la pelicula\")\n",
        "else:\n",
        "  print(\"no puede ingresar a ver la pelicula\")"
      ],
      "metadata": {
        "id": "s7jvt4ORiPpV",
        "outputId": "d294e0fb-b351-479c-d47c-8554b3e19ff0",
        "colab": {
          "base_uri": "https://localhost:8080/"
        }
      },
      "execution_count": 82,
      "outputs": [
        {
          "output_type": "stream",
          "name": "stdout",
          "text": [
            "Ingrese su edad    20\n",
            "puede ingresar a ver la pelicula\n"
          ]
        }
      ]
    }
  ]
}