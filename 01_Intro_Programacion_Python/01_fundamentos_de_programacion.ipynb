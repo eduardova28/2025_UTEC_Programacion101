{
  "nbformat": 4,
  "nbformat_minor": 0,
  "metadata": {
    "colab": {
      "provenance": [],
      "authorship_tag": "ABX9TyN/qeRGm0kLuUUX/rs0sCJK",
      "include_colab_link": true
    },
    "kernelspec": {
      "name": "python3",
      "display_name": "Python 3"
    },
    "language_info": {
      "name": "python"
    }
  },
  "cells": [
    {
      "cell_type": "markdown",
      "metadata": {
        "id": "view-in-github",
        "colab_type": "text"
      },
      "source": [
        "<a href=\"https://colab.research.google.com/github/eduardova28/2025_UTEC_Programacion101/blob/main/01_Intro_Programacion_Python/01_fundamentos_de_programacion.ipynb\" target=\"_parent\"><img src=\"https://colab.research.google.com/assets/colab-badge.svg\" alt=\"Open In Colab\"/></a>"
      ]
    },
    {
      "cell_type": "code",
      "execution_count": 33,
      "metadata": {
        "id": "Cp-b-y-YnskJ",
        "outputId": "209f0538-05ee-4af5-f842-e5f61fb23b99",
        "colab": {
          "base_uri": "https://localhost:8080/"
        }
      },
      "outputs": [
        {
          "output_type": "stream",
          "name": "stdout",
          "text": [
            "Y TU IMC ES     26.812218711098343\n",
            "O sea estas gordo CTM\n",
            "Eduardo Vergaray\n",
            "EDUARDO VERGARAY\n",
            "Hola   Eduardo Vergaray\n",
            "holaholaholaholaholaholaholaholaholahola\n",
            "16\n"
          ]
        }
      ],
      "source": [
        "#EJERCICIO 05\n",
        "#CALCULAR SI ESTAS GORDO CTV\n",
        "\n",
        "def IMC(altura,weight):\n",
        "  calculoIMC=(weight/altura**2)\n",
        "  return calculoIMC\n",
        "altura=1.77\n",
        "weight=84\n",
        "print(\"Y TU IMC ES     \" + str(IMC(altura,weight)))\n",
        "\n",
        "if(IMC(altura,weight))>25:\n",
        "  print(\"O sea estas gordo CTM\")\n",
        "else:\n",
        "  print(\"no estas gordo\")\n",
        "\n",
        "#title\n",
        "name=\"eduardo vergaray\"\n",
        "print(name.title())\n",
        "print(name.upper())\n",
        "print (\"Hola\" + \"   \" + name.title())\n",
        "\"hola\"*4\n",
        "print(\"hola\"*10)\n",
        "print(len(name    ))\n",
        "\n",
        "\n",
        "\n",
        "\n"
      ]
    },
    {
      "cell_type": "code",
      "source": [
        "f\"HOLA {name}, bienvenido al curso\""
      ],
      "metadata": {
        "id": "Kn_2EiEjROwg",
        "outputId": "4a8b6595-d676-4749-c84f-7cc916b821d0",
        "colab": {
          "base_uri": "https://localhost:8080/",
          "height": 35
        }
      },
      "execution_count": 34,
      "outputs": [
        {
          "output_type": "execute_result",
          "data": {
            "text/plain": [
              "'HOLA eduardo vergaray, bienvenido al curso'"
            ],
            "application/vnd.google.colaboratory.intrinsic+json": {
              "type": "string"
            }
          },
          "metadata": {},
          "execution_count": 34
        }
      ]
    },
    {
      "cell_type": "code",
      "source": [
        "f\"HOLA {name.upper()}, bienvenido al curso\""
      ],
      "metadata": {
        "id": "VPU5guBxRl6O",
        "outputId": "db3b0a50-d771-4e8a-8c2c-62348c6a64d6",
        "colab": {
          "base_uri": "https://localhost:8080/",
          "height": 35
        }
      },
      "execution_count": 36,
      "outputs": [
        {
          "output_type": "execute_result",
          "data": {
            "text/plain": [
              "'HOLA EDUARDO VERGARAY, bienvenido al curso'"
            ],
            "application/vnd.google.colaboratory.intrinsic+json": {
              "type": "string"
            }
          },
          "metadata": {},
          "execution_count": 36
        }
      ]
    },
    {
      "cell_type": "code",
      "source": [
        "f\"HOLA {name.title()}, bienvenido al curso\""
      ],
      "metadata": {
        "id": "cpGdg3pxRwUU",
        "outputId": "10ea6c80-f2c5-432f-94e8-6ac9cadee4b9",
        "colab": {
          "base_uri": "https://localhost:8080/",
          "height": 35
        }
      },
      "execution_count": 37,
      "outputs": [
        {
          "output_type": "execute_result",
          "data": {
            "text/plain": [
              "'HOLA Eduardo Vergaray, bienvenido al curso'"
            ],
            "application/vnd.google.colaboratory.intrinsic+json": {
              "type": "string"
            }
          },
          "metadata": {},
          "execution_count": 37
        }
      ]
    },
    {
      "cell_type": "code",
      "source": [
        "print(\"\\033[MynameisMud:\\033[0m\\n\\t\\033[94mXGBoost\\tR2: 50%\\n\\tDNN\\tR2: 60%\\033[0m\")"
      ],
      "metadata": {
        "id": "SwJYf_4ETnzw",
        "outputId": "e75c291a-877f-4f38-a5c6-248a8d82155c",
        "colab": {
          "base_uri": "https://localhost:8080/"
        }
      },
      "execution_count": 41,
      "outputs": [
        {
          "output_type": "stream",
          "name": "stdout",
          "text": [
            "\u001b[MynameisMud:\u001b[0m\n",
            "\t\u001b[94mXGBoost\tR2: 50%\n",
            "\tDNN\tR2: 60%\u001b[0m\n"
          ]
        }
      ]
    },
    {
      "cell_type": "code",
      "source": [
        "print(len(name.strip()))\n"
      ],
      "metadata": {
        "id": "nPpSH3pFVQ-r",
        "outputId": "a4b05925-8082-4125-c0f4-daa2bc379f9c",
        "colab": {
          "base_uri": "https://localhost:8080/"
        }
      },
      "execution_count": 44,
      "outputs": [
        {
          "output_type": "stream",
          "name": "stdout",
          "text": [
            "16\n"
          ]
        }
      ]
    },
    {
      "cell_type": "code",
      "source": [
        "#removeprefix\n",
        "feature=\"sunat_ventas_historial\"\n",
        "print(feature.removeprefix(\"sunat_\"))"
      ],
      "metadata": {
        "id": "SPGfH6rmVcf5",
        "outputId": "8e48e1bc-3ebd-4e5b-ef37-5fe65fa211e2",
        "colab": {
          "base_uri": "https://localhost:8080/"
        }
      },
      "execution_count": 45,
      "outputs": [
        {
          "output_type": "stream",
          "name": "stdout",
          "text": [
            "ventas_historial\n"
          ]
        }
      ]
    },
    {
      "cell_type": "code",
      "source": [
        "#removesufix\n",
        "feature=\"sunat_ventas_historial\"\n",
        "print(feature.removesuffix(\"_historial\"))"
      ],
      "metadata": {
        "id": "zlE8jl_TVqvu",
        "outputId": "40422527-68ef-4e25-d3d8-3c1c9983820e",
        "colab": {
          "base_uri": "https://localhost:8080/"
        }
      },
      "execution_count": 47,
      "outputs": [
        {
          "output_type": "stream",
          "name": "stdout",
          "text": [
            "sunat_ventas\n"
          ]
        }
      ]
    },
    {
      "cell_type": "code",
      "source": [
        "abs(-151515)"
      ],
      "metadata": {
        "id": "0v8QC0fpcaU7",
        "outputId": "739e5ef6-c9c0-4c05-8653-60e30a10fe61",
        "colab": {
          "base_uri": "https://localhost:8080/"
        }
      },
      "execution_count": 48,
      "outputs": [
        {
          "output_type": "execute_result",
          "data": {
            "text/plain": [
              "151515"
            ]
          },
          "metadata": {},
          "execution_count": 48
        }
      ]
    },
    {
      "cell_type": "code",
      "source": [
        "#CALCULAR AREA DE UN TRIANGULO\n",
        "def AreaTriangulo(base,altura):\n",
        "  AreaT=((base*altura)/2)\n",
        "  return AreaT\n",
        "\n",
        "print(\"Ingresar area  \")\n",
        "base=float(input())\n",
        "print(\"Ingresar altura  \")\n",
        "altura=float(input())\n",
        "print(\"El area del triangulo es  \" + str(AreaTriangulo(base,altura)))\n",
        "\n",
        "\n"
      ],
      "metadata": {
        "id": "xPEDMDsUcpIh",
        "outputId": "78b231ea-68e8-4f9a-86b6-aa2639bdcec4",
        "colab": {
          "base_uri": "https://localhost:8080/"
        }
      },
      "execution_count": 53,
      "outputs": [
        {
          "output_type": "stream",
          "name": "stdout",
          "text": [
            "Ingresar area  \n",
            "10\n",
            "Ingresar altura  \n",
            "4\n",
            "El area del triangulo es  20.0\n"
          ]
        }
      ]
    },
    {
      "cell_type": "code",
      "source": [
        "#OTRO METODO CALCULO 2\n",
        "base=float(input(\"ingresarbase\"))\n",
        "altura=float(input(\"ingresaraltura\"))\n",
        "Trianglearea=(base*altura)/2\n",
        "print(\"Triangle Area is\"+\"    \"+str(Trianglearea))\n",
        "\n"
      ],
      "metadata": {
        "id": "fBY2UoVSela3",
        "outputId": "50a921cc-5b2d-47aa-fde1-dade3bfd4d9e",
        "colab": {
          "base_uri": "https://localhost:8080/"
        }
      },
      "execution_count": 85,
      "outputs": [
        {
          "output_type": "stream",
          "name": "stdout",
          "text": [
            "ingresarbase4\n",
            "ingresaraltura3\n",
            "Triangle Area is    6.0\n"
          ]
        }
      ]
    },
    {
      "cell_type": "code",
      "source": [
        "population=20_000_000\n",
        "print(population)\n"
      ],
      "metadata": {
        "id": "givJuOZTlrnF",
        "outputId": "11217466-57c0-48cf-f642-01a521a4c009",
        "colab": {
          "base_uri": "https://localhost:8080/"
        }
      },
      "execution_count": 88,
      "outputs": [
        {
          "output_type": "stream",
          "name": "stdout",
          "text": [
            "20000000\n"
          ]
        }
      ]
    },
    {
      "cell_type": "code",
      "source": [
        "x, y, z= 1,5,10\n",
        "a,b,c=5,20,25\n",
        "print(x,y,z+ a,b,c)\n"
      ],
      "metadata": {
        "id": "2rf_Xzhel4hA",
        "outputId": "4a724b8b-5ea8-42f6-8f95-9066929fc446",
        "colab": {
          "base_uri": "https://localhost:8080/"
        }
      },
      "execution_count": 93,
      "outputs": [
        {
          "output_type": "stream",
          "name": "stdout",
          "text": [
            "1 5 15 20 25\n"
          ]
        }
      ]
    },
    {
      "cell_type": "code",
      "source": [],
      "metadata": {
        "id": "D1vDTv7Mmuma"
      },
      "execution_count": null,
      "outputs": []
    }
  ]
}