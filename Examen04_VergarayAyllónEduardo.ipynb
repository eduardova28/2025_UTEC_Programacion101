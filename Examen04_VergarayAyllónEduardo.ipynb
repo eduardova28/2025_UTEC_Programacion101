{
  "nbformat": 4,
  "nbformat_minor": 0,
  "metadata": {
    "colab": {
      "provenance": [],
      "authorship_tag": "ABX9TyMFsSunMppkkr6A30cplf0J",
      "include_colab_link": true
    },
    "kernelspec": {
      "name": "python3",
      "display_name": "Python 3"
    },
    "language_info": {
      "name": "python"
    }
  },
  "cells": [
    {
      "cell_type": "markdown",
      "metadata": {
        "id": "view-in-github",
        "colab_type": "text"
      },
      "source": [
        "<a href=\"https://colab.research.google.com/github/eduardova28/2025_UTEC_Programacion101/blob/main/Examen04_VergarayAyll%C3%B3nEduardo.ipynb\" target=\"_parent\"><img src=\"https://colab.research.google.com/assets/colab-badge.svg\" alt=\"Open In Colab\"/></a>"
      ]
    },
    {
      "cell_type": "code",
      "execution_count": null,
      "metadata": {
        "id": "uXNs1dWGVcbj"
      },
      "outputs": [],
      "source": []
    },
    {
      "cell_type": "markdown",
      "source": [
        "Examen 4 - Pandas Duración: 60 minutos Instrucciones: Responde las siguientes preguntas y resuelve los problemas propuestos. Asegúrate de leer cuidadosamente cada pregunta y mostrar tus razonamientos y cálculos cuando sea necesario. Dataset principal:\n",
        "\n",
        "diabetes.csv (descargable de: https://www.kaggle.com/datasets/uciml/pima-indians-diabetes-database)\n",
        "\n",
        "Nombre y Apellido: Luis Daniel Alarcon Alcantara\n",
        "\n",
        "Pregunta 1:\n",
        "\n",
        "Carga diabetes.csv en un DataFrame df_diabetes.\n",
        "Muestra las 5 primeras filas.\n",
        "Imprime el número total de filas, columnas y el tipo de cada columna.\n",
        "Convierte la columna Outcome a tipo categórico y verifica el cambio imprimiendo la información del DataFrame (df_diabetes.info())."
      ],
      "metadata": {
        "id": "j0I2pIo9Vv8R"
      }
    },
    {
      "cell_type": "code",
      "source": [
        "import pandas as pd\n",
        "\n",
        "# 1 Carga diabetes.csv\n",
        "print(\"\\n\\033[1m\\033[34mDataframe df_diabetes:\\033[0m\")\n",
        "df_diabetes = pd.read_csv('diabetes.csv')\n",
        "print(df_diabetes)\n",
        "\n",
        "# 2 Muestra las 5 primeras fiulas\n",
        "print(\"\\n\\033[1m\\033[34mCinco primeras filas del dataframe:\\033[0m\")\n",
        "print(df_diabetes.iloc[:5, :])\n",
        "\n",
        "# 3 Imprime el número total de filas, columnas y el tipo de cada una\n",
        "print(\"\\n\\033[1m\\033[34mInformacion del dataframe:\\033[0m\")\n",
        "print(df_diabetes.info())\n",
        "\n",
        "# 4 Convierte la columna Outcome a tipo categórico y verifica el cambio imprimiendo la información del DataFrame (df_diabetes.info())\n",
        "df_diabetes['Outcome'] = df_diabetes['Outcome'].astype('category')\n",
        "print(\"\\n\\033[1m\\033[34mVerificar conversion de la columna Outcome del dataframe:\\033[0m\")\n",
        "print(df_diabetes.dtypes)"
      ],
      "metadata": {
        "colab": {
          "base_uri": "https://localhost:8080/"
        },
        "id": "MlTO11XdVyf-",
        "outputId": "eda99b74-2b14-49a3-bbeb-ede6d6b865b1"
      },
      "execution_count": 2,
      "outputs": [
        {
          "output_type": "stream",
          "name": "stdout",
          "text": [
            "\n",
            "\u001b[1m\u001b[34mDataframe df_diabetes:\u001b[0m\n",
            "     Pregnancies  Glucose  BloodPressure  SkinThickness  Insulin   BMI  \\\n",
            "0              6      148             72             35        0  33.6   \n",
            "1              1       85             66             29        0  26.6   \n",
            "2              8      183             64              0        0  23.3   \n",
            "3              1       89             66             23       94  28.1   \n",
            "4              0      137             40             35      168  43.1   \n",
            "..           ...      ...            ...            ...      ...   ...   \n",
            "763           10      101             76             48      180  32.9   \n",
            "764            2      122             70             27        0  36.8   \n",
            "765            5      121             72             23      112  26.2   \n",
            "766            1      126             60              0        0  30.1   \n",
            "767            1       93             70             31        0  30.4   \n",
            "\n",
            "     DiabetesPedigreeFunction  Age  Outcome  \n",
            "0                       0.627   50        1  \n",
            "1                       0.351   31        0  \n",
            "2                       0.672   32        1  \n",
            "3                       0.167   21        0  \n",
            "4                       2.288   33        1  \n",
            "..                        ...  ...      ...  \n",
            "763                     0.171   63        0  \n",
            "764                     0.340   27        0  \n",
            "765                     0.245   30        0  \n",
            "766                     0.349   47        1  \n",
            "767                     0.315   23        0  \n",
            "\n",
            "[768 rows x 9 columns]\n",
            "\n",
            "\u001b[1m\u001b[34mCinco primeras filas del dataframe:\u001b[0m\n",
            "   Pregnancies  Glucose  BloodPressure  SkinThickness  Insulin   BMI  \\\n",
            "0            6      148             72             35        0  33.6   \n",
            "1            1       85             66             29        0  26.6   \n",
            "2            8      183             64              0        0  23.3   \n",
            "3            1       89             66             23       94  28.1   \n",
            "4            0      137             40             35      168  43.1   \n",
            "\n",
            "   DiabetesPedigreeFunction  Age  Outcome  \n",
            "0                     0.627   50        1  \n",
            "1                     0.351   31        0  \n",
            "2                     0.672   32        1  \n",
            "3                     0.167   21        0  \n",
            "4                     2.288   33        1  \n",
            "\n",
            "\u001b[1m\u001b[34mInformacion del dataframe:\u001b[0m\n",
            "<class 'pandas.core.frame.DataFrame'>\n",
            "RangeIndex: 768 entries, 0 to 767\n",
            "Data columns (total 9 columns):\n",
            " #   Column                    Non-Null Count  Dtype  \n",
            "---  ------                    --------------  -----  \n",
            " 0   Pregnancies               768 non-null    int64  \n",
            " 1   Glucose                   768 non-null    int64  \n",
            " 2   BloodPressure             768 non-null    int64  \n",
            " 3   SkinThickness             768 non-null    int64  \n",
            " 4   Insulin                   768 non-null    int64  \n",
            " 5   BMI                       768 non-null    float64\n",
            " 6   DiabetesPedigreeFunction  768 non-null    float64\n",
            " 7   Age                       768 non-null    int64  \n",
            " 8   Outcome                   768 non-null    int64  \n",
            "dtypes: float64(2), int64(7)\n",
            "memory usage: 54.1 KB\n",
            "None\n",
            "\n",
            "\u001b[1m\u001b[34mVerificar conversion de la columna Outcome del dataframe:\u001b[0m\n",
            "Pregnancies                    int64\n",
            "Glucose                        int64\n",
            "BloodPressure                  int64\n",
            "SkinThickness                  int64\n",
            "Insulin                        int64\n",
            "BMI                          float64\n",
            "DiabetesPedigreeFunction     float64\n",
            "Age                            int64\n",
            "Outcome                     category\n",
            "dtype: object\n"
          ]
        }
      ]
    },
    {
      "cell_type": "markdown",
      "source": [
        "Pregunta 2:\n",
        "\n",
        "Crea un DataFrame df_filtrado con todas las filas de df_diabetes donde Glucose > 120.\n",
        "Agrega a df_filtrado una columna BMI_Category que clasifique el BMI así:\n",
        "○ \"Bajo\" si BMI < 18.5\n",
        "\n",
        "○ \"Normal\" si 18.5 ≤ BMI < 25\n",
        "\n",
        "○ \"Sobrepeso\" si 25 ≤ BMI < 30\n",
        "\n",
        "○ \"Obeso\" si BMI ≥ 30\n",
        "\n",
        "Muestra las primeras 5 filas de df_filtrado con la nueva columna incluida."
      ],
      "metadata": {
        "id": "pZs-xcrdWOpY"
      }
    },
    {
      "cell_type": "code",
      "source": [
        "# Crea un DataFrame df_filtrado con todas las filas de df_diabetes donde Glucose > 120.\n",
        "df_filtrado = df_diabetes[df_diabetes['Glucose'] > 120]\n",
        "print(\"\\n\\033[1m\\033[34mDataFrame filtrado para Glucose >120\\033[0m\")\n",
        "print(df_filtrado)\n",
        "\n",
        "# Agrega a df_filtrado una columna BMI_Category que clasifique el BMI así: \"Bajo\" si BMI < 18.5 \"Normal\" si 18.5 ≤ BMI < 25 \"Sobrepeso\" si 25 ≤ BMI < 30 \"Obeso\" si BMI ≥ 30\n",
        "\n",
        "def clasificar_bmi(bmi): # Función para clasificar el BMI\n",
        "    if bmi < 18.5:\n",
        "        return 'Bajo'\n",
        "    elif 18.5 <= bmi < 25:\n",
        "        return 'Normal'\n",
        "    elif 25 <= bmi < 30:\n",
        "        return 'Sobrepeso'\n",
        "    else:\n",
        "        return 'Obeso'\n",
        "\n",
        "df_filtrado['BMI_Category'] = df_filtrado['BMI'].apply(clasificar_bmi)# Agregar la nueva columna BMI_Category\n",
        "\n",
        "# Muestra las primeras 5 filas de df_filtrado con la nueva columna incluida.\n",
        "print(\"\\n\\033[1m\\033[34mCinco primeras filas del df_filtrado con la columna BMI Category agregada:\\033[0m\")\n",
        "pd.set_option('display.max_columns', None)\n",
        "print(df_filtrado.iloc[:5, :])"
      ],
      "metadata": {
        "colab": {
          "base_uri": "https://localhost:8080/"
        },
        "id": "FKUiGCm4WMEB",
        "outputId": "07582f41-18ae-4a6d-dd04-008969202c6b"
      },
      "execution_count": 3,
      "outputs": [
        {
          "output_type": "stream",
          "name": "stdout",
          "text": [
            "\n",
            "\u001b[1m\u001b[34mDataFrame filtrado para Glucose >120\u001b[0m\n",
            "     Pregnancies  Glucose  BloodPressure  SkinThickness  Insulin   BMI  \\\n",
            "0              6      148             72             35        0  33.6   \n",
            "2              8      183             64              0        0  23.3   \n",
            "4              0      137             40             35      168  43.1   \n",
            "8              2      197             70             45      543  30.5   \n",
            "9              8      125             96              0        0   0.0   \n",
            "..           ...      ...            ...            ...      ...   ...   \n",
            "759            6      190             92              0        0  35.5   \n",
            "761            9      170             74             31        0  44.0   \n",
            "764            2      122             70             27        0  36.8   \n",
            "765            5      121             72             23      112  26.2   \n",
            "766            1      126             60              0        0  30.1   \n",
            "\n",
            "     DiabetesPedigreeFunction  Age Outcome  \n",
            "0                       0.627   50       1  \n",
            "2                       0.672   32       1  \n",
            "4                       2.288   33       1  \n",
            "8                       0.158   53       1  \n",
            "9                       0.232   54       1  \n",
            "..                        ...  ...     ...  \n",
            "759                     0.278   66       1  \n",
            "761                     0.403   43       1  \n",
            "764                     0.340   27       0  \n",
            "765                     0.245   30       0  \n",
            "766                     0.349   47       1  \n",
            "\n",
            "[349 rows x 9 columns]\n",
            "\n",
            "\u001b[1m\u001b[34mCinco primeras filas del df_filtrado con la columna BMI Category agregada:\u001b[0m\n",
            "   Pregnancies  Glucose  BloodPressure  SkinThickness  Insulin   BMI  \\\n",
            "0            6      148             72             35        0  33.6   \n",
            "2            8      183             64              0        0  23.3   \n",
            "4            0      137             40             35      168  43.1   \n",
            "8            2      197             70             45      543  30.5   \n",
            "9            8      125             96              0        0   0.0   \n",
            "\n",
            "   DiabetesPedigreeFunction  Age Outcome BMI_Category  \n",
            "0                     0.627   50       1        Obeso  \n",
            "2                     0.672   32       1       Normal  \n",
            "4                     2.288   33       1        Obeso  \n",
            "8                     0.158   53       1        Obeso  \n",
            "9                     0.232   54       1         Bajo  \n"
          ]
        },
        {
          "output_type": "stream",
          "name": "stderr",
          "text": [
            "/tmp/ipython-input-3-580300760.py:18: SettingWithCopyWarning: \n",
            "A value is trying to be set on a copy of a slice from a DataFrame.\n",
            "Try using .loc[row_indexer,col_indexer] = value instead\n",
            "\n",
            "See the caveats in the documentation: https://pandas.pydata.org/pandas-docs/stable/user_guide/indexing.html#returning-a-view-versus-a-copy\n",
            "  df_filtrado['BMI_Category'] = df_filtrado['BMI'].apply(clasificar_bmi)# Agregar la nueva columna BMI_Category\n"
          ]
        }
      ]
    },
    {
      "cell_type": "markdown",
      "source": [
        "Pregunta 3:\n",
        "\n",
        "Carga age_groups.csv en un DataFrame df_age_groups.\n",
        "Haz un merge de df_diabetes con df_age_groups por la columna Age. El resultado se llamará df_combinado. Debe ser un left merge para mantener todas las filas de df_diabetes.\n",
        "Muestra las 5 primeras filas de df_combinado para verificar que la columna AgeGroup se haya agregado correctamente."
      ],
      "metadata": {
        "id": "xPVxnknSWUaS"
      }
    },
    {
      "cell_type": "code",
      "source": [
        "# 1. Carga agegroups.csv en un DataFrame df_age_groups.\n",
        "print(\"\\n\\033[1m\\033[34mDataframe df_age_groups:\\033[0m\")\n",
        "df_age_groups = pd.read_csv('age_groups.csv')\n",
        "print(df_age_groups)\n",
        "\n",
        "# 2. Haz un merge de df_diabetes con df_age_groups por la columna Age\n",
        "# El resultado se llamará df_combinado. Debe ser un left merge para mantener todas las filas de df_diabetes.\n",
        "\n",
        "df_combinado = pd.merge(df_diabetes, df_age_groups, on='Age', how='left')\n",
        "\n",
        "# 3. Muestra las 5 primeras filas de df_combinado para verificar que la columna AgeGroup se haya agregado correctamente.\n",
        "print(\"\\n\\033[1m\\033[34mCinco primeras filas del df_combinado con la columna AgeGroup agregada:\\033[0m\")\n",
        "pd.set_option('display.max_columns', None)\n",
        "print(df_combinado.iloc[:5, :])"
      ],
      "metadata": {
        "colab": {
          "base_uri": "https://localhost:8080/"
        },
        "id": "O1gXUE4dWYAG",
        "outputId": "94655e63-7daa-4860-c275-4261ce1619b5"
      },
      "execution_count": 4,
      "outputs": [
        {
          "output_type": "stream",
          "name": "stdout",
          "text": [
            "\n",
            "\u001b[1m\u001b[34mDataframe df_age_groups:\u001b[0m\n",
            "    Age      AgeGroup\n",
            "0    50        Adulto\n",
            "1    31        Adulto\n",
            "2    32        Adulto\n",
            "3    21         Joven\n",
            "4    33        Adulto\n",
            "5    30         Joven\n",
            "6    26         Joven\n",
            "7    29         Joven\n",
            "8    53  Adulto_Mayor\n",
            "9    54  Adulto_Mayor\n",
            "10   34        Adulto\n",
            "11   57  Adulto_Mayor\n",
            "12   59  Adulto_Mayor\n",
            "13   51  Adulto_Mayor\n",
            "14   27         Joven\n",
            "15   41        Adulto\n",
            "16   43        Adulto\n",
            "17   22         Joven\n",
            "18   38        Adulto\n",
            "19   60  Adulto_Mayor\n",
            "20   28         Joven\n",
            "21   45        Adulto\n",
            "22   35        Adulto\n",
            "23   46        Adulto\n",
            "24   56  Adulto_Mayor\n",
            "25   37        Adulto\n",
            "26   48        Adulto\n",
            "27   40        Adulto\n",
            "28   25         Joven\n",
            "29   24         Joven\n",
            "30   58  Adulto_Mayor\n",
            "31   42        Adulto\n",
            "32   44        Adulto\n",
            "33   39        Adulto\n",
            "34   36        Adulto\n",
            "35   23         Joven\n",
            "36   61  Adulto_Mayor\n",
            "37   69  Adulto_Mayor\n",
            "38   62  Adulto_Mayor\n",
            "39   55  Adulto_Mayor\n",
            "40   65  Adulto_Mayor\n",
            "41   47        Adulto\n",
            "42   52  Adulto_Mayor\n",
            "43   66  Adulto_Mayor\n",
            "44   49        Adulto\n",
            "45   63  Adulto_Mayor\n",
            "46   67  Adulto_Mayor\n",
            "47   72  Adulto_Mayor\n",
            "48   81  Adulto_Mayor\n",
            "49   64  Adulto_Mayor\n",
            "50   70  Adulto_Mayor\n",
            "51   68  Adulto_Mayor\n",
            "\n",
            "\u001b[1m\u001b[34mCinco primeras filas del df_combinado con la columna AgeGroup agregada:\u001b[0m\n",
            "   Pregnancies  Glucose  BloodPressure  SkinThickness  Insulin   BMI  \\\n",
            "0            6      148             72             35        0  33.6   \n",
            "1            1       85             66             29        0  26.6   \n",
            "2            8      183             64              0        0  23.3   \n",
            "3            1       89             66             23       94  28.1   \n",
            "4            0      137             40             35      168  43.1   \n",
            "\n",
            "   DiabetesPedigreeFunction  Age Outcome AgeGroup  \n",
            "0                     0.627   50       1   Adulto  \n",
            "1                     0.351   31       0   Adulto  \n",
            "2                     0.672   32       1   Adulto  \n",
            "3                     0.167   21       0    Joven  \n",
            "4                     2.288   33       1   Adulto  \n"
          ]
        }
      ]
    },
    {
      "cell_type": "markdown",
      "source": [
        "Pregunta 4:\n",
        "\n",
        "Agrupa df_combinado por AgeGroup.\n",
        "Calcula el promedio de Glucose y el promedio de BMI para cada grupo de edad.\n",
        "Ordena el resultado por el promedio de Glucose de mayor a menor.\n",
        "Muestra el DataFrame resultante."
      ],
      "metadata": {
        "id": "wDi3PTauWa6E"
      }
    },
    {
      "cell_type": "code",
      "source": [
        "# Agrupa df_combinado por AgeGroup.\n",
        "grupo_por_agegroup = df_combinado.groupby('AgeGroup')\n",
        "\n",
        "# Calcula el promedio de Glucose y el promedio de BMI para cada grupo de edad.\n",
        "promedio_glucose = grupo_por_agegroup['Glucose'].mean()\n",
        "promedio_bmi = grupo_por_agegroup['BMI'].mean()\n",
        "\n",
        "# Ordena el resultado por el promedio de Glucose de mayor a menor.\n",
        "df_resultado = pd.DataFrame({'Promedio Glucose': promedio_glucose, 'Promedio BMI': promedio_bmi})\n",
        "df_resultado = df_resultado.sort_values(by='Promedio Glucose', ascending=False)\n",
        "\n",
        "# Muestra el DataFrame resultante.\n",
        "print(\"\\n\\033[1m\\033[34mDataFrame resultante:\\033[0m\")\n",
        "print(df_resultado)\n"
      ],
      "metadata": {
        "colab": {
          "base_uri": "https://localhost:8080/"
        },
        "id": "ggAZBvlcWdua",
        "outputId": "f36bef43-d63c-4db4-ff81-41c29737e93a"
      },
      "execution_count": 5,
      "outputs": [
        {
          "output_type": "stream",
          "name": "stdout",
          "text": [
            "\n",
            "\u001b[1m\u001b[34mDataFrame resultante:\u001b[0m\n",
            "              Promedio Glucose  Promedio BMI\n",
            "AgeGroup                                    \n",
            "Adulto_Mayor        139.679012     30.211111\n",
            "Adulto              125.637037     33.562593\n",
            "Joven               114.175060     31.322062\n"
          ]
        }
      ]
    }
  ]
}